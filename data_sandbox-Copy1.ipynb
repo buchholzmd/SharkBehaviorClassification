{
 "cells": [
  {
   "cell_type": "code",
   "execution_count": 1,
   "metadata": {},
   "outputs": [
    {
     "name": "stdout",
     "output_type": "stream",
     "text": [
      "Requirement already satisfied: pingouin in /opt/conda/envs/shark-rnn/lib/python3.6/site-packages (0.3.8)\n",
      "Requirement already satisfied: matplotlib>=3.0.2 in /opt/conda/envs/shark-rnn/lib/python3.6/site-packages (from pingouin) (3.3.3)\n",
      "Requirement already satisfied: numpy>=1.15 in /opt/conda/envs/shark-rnn/lib/python3.6/site-packages (from pingouin) (1.19.2)\n",
      "Requirement already satisfied: pandas>=0.24 in /opt/conda/envs/shark-rnn/lib/python3.6/site-packages (from pingouin) (1.1.5)\n",
      "Requirement already satisfied: seaborn>=0.9.0 in /opt/conda/envs/shark-rnn/lib/python3.6/site-packages (from pingouin) (0.11.0)\n",
      "Requirement already satisfied: scipy>=1.3 in /opt/conda/envs/shark-rnn/lib/python3.6/site-packages (from pingouin) (1.5.2)\n",
      "Requirement already satisfied: pandas-flavor>=0.1.2 in /opt/conda/envs/shark-rnn/lib/python3.6/site-packages (from pingouin) (0.2.0)\n",
      "Requirement already satisfied: statsmodels>=0.10.0 in /opt/conda/envs/shark-rnn/lib/python3.6/site-packages (from pingouin) (0.12.1)\n",
      "Requirement already satisfied: outdated in /opt/conda/envs/shark-rnn/lib/python3.6/site-packages (from pingouin) (0.2.0)\n",
      "Requirement already satisfied: scikit-learn in /opt/conda/envs/shark-rnn/lib/python3.6/site-packages (from pingouin) (0.23.2)\n",
      "Requirement already satisfied: tabulate in /opt/conda/envs/shark-rnn/lib/python3.6/site-packages (from pingouin) (0.8.7)\n",
      "Requirement already satisfied: kiwisolver>=1.0.1 in /opt/conda/envs/shark-rnn/lib/python3.6/site-packages (from matplotlib>=3.0.2->pingouin) (1.3.0)\n",
      "Requirement already satisfied: pillow>=6.2.0 in /opt/conda/envs/shark-rnn/lib/python3.6/site-packages (from matplotlib>=3.0.2->pingouin) (8.0.1)\n",
      "Requirement already satisfied: cycler>=0.10 in /opt/conda/envs/shark-rnn/lib/python3.6/site-packages (from matplotlib>=3.0.2->pingouin) (0.10.0)\n",
      "Requirement already satisfied: pyparsing!=2.0.4,!=2.1.2,!=2.1.6,>=2.0.3 in /opt/conda/envs/shark-rnn/lib/python3.6/site-packages (from matplotlib>=3.0.2->pingouin) (2.4.7)\n",
      "Requirement already satisfied: python-dateutil>=2.1 in /opt/conda/envs/shark-rnn/lib/python3.6/site-packages (from matplotlib>=3.0.2->pingouin) (2.8.1)\n",
      "Requirement already satisfied: six in /opt/conda/envs/shark-rnn/lib/python3.6/site-packages (from cycler>=0.10->matplotlib>=3.0.2->pingouin) (1.15.0)\n",
      "Requirement already satisfied: pytz>=2017.2 in /opt/conda/envs/shark-rnn/lib/python3.6/site-packages (from pandas>=0.24->pingouin) (2020.4)\n",
      "Requirement already satisfied: xarray in /opt/conda/envs/shark-rnn/lib/python3.6/site-packages (from pandas-flavor>=0.1.2->pingouin) (0.16.2)\n",
      "Requirement already satisfied: patsy>=0.5 in /opt/conda/envs/shark-rnn/lib/python3.6/site-packages (from statsmodels>=0.10.0->pingouin) (0.5.1)\n",
      "Requirement already satisfied: requests in /opt/conda/envs/shark-rnn/lib/python3.6/site-packages (from outdated->pingouin) (2.25.1)\n",
      "Requirement already satisfied: littleutils in /opt/conda/envs/shark-rnn/lib/python3.6/site-packages (from outdated->pingouin) (0.2.2)\n",
      "Requirement already satisfied: urllib3<1.27,>=1.21.1 in /opt/conda/envs/shark-rnn/lib/python3.6/site-packages (from requests->outdated->pingouin) (1.26.2)\n",
      "Requirement already satisfied: chardet<5,>=3.0.2 in /opt/conda/envs/shark-rnn/lib/python3.6/site-packages (from requests->outdated->pingouin) (4.0.0)\n",
      "Requirement already satisfied: certifi>=2017.4.17 in /opt/conda/envs/shark-rnn/lib/python3.6/site-packages (from requests->outdated->pingouin) (2020.12.5)\n",
      "Requirement already satisfied: idna<3,>=2.5 in /opt/conda/envs/shark-rnn/lib/python3.6/site-packages (from requests->outdated->pingouin) (2.10)\n",
      "Requirement already satisfied: threadpoolctl>=2.0.0 in /opt/conda/envs/shark-rnn/lib/python3.6/site-packages (from scikit-learn->pingouin) (2.1.0)\n",
      "Requirement already satisfied: joblib>=0.11 in /opt/conda/envs/shark-rnn/lib/python3.6/site-packages (from scikit-learn->pingouin) (1.0.0)\n",
      "Requirement already satisfied: setuptools>=38.4 in /opt/conda/envs/shark-rnn/lib/python3.6/site-packages (from xarray->pandas-flavor>=0.1.2->pingouin) (51.0.0.post20201207)\n",
      "Note: you may need to restart the kernel to use updated packages.\n",
      "Requirement already satisfied: matplotlib in /opt/conda/envs/shark-rnn/lib/python3.6/site-packages (3.3.3)\n",
      "Requirement already satisfied: pillow>=6.2.0 in /opt/conda/envs/shark-rnn/lib/python3.6/site-packages (from matplotlib) (8.0.1)\n",
      "Requirement already satisfied: kiwisolver>=1.0.1 in /opt/conda/envs/shark-rnn/lib/python3.6/site-packages (from matplotlib) (1.3.0)\n",
      "Requirement already satisfied: numpy>=1.15 in /opt/conda/envs/shark-rnn/lib/python3.6/site-packages (from matplotlib) (1.19.2)\n",
      "Requirement already satisfied: python-dateutil>=2.1 in /opt/conda/envs/shark-rnn/lib/python3.6/site-packages (from matplotlib) (2.8.1)\n",
      "Requirement already satisfied: cycler>=0.10 in /opt/conda/envs/shark-rnn/lib/python3.6/site-packages (from matplotlib) (0.10.0)\n",
      "Requirement already satisfied: pyparsing!=2.0.4,!=2.1.2,!=2.1.6,>=2.0.3 in /opt/conda/envs/shark-rnn/lib/python3.6/site-packages (from matplotlib) (2.4.7)\n",
      "Requirement already satisfied: six in /opt/conda/envs/shark-rnn/lib/python3.6/site-packages (from cycler>=0.10->matplotlib) (1.15.0)\n",
      "Note: you may need to restart the kernel to use updated packages.\n",
      "Requirement already satisfied: Pillow in /opt/conda/envs/shark-rnn/lib/python3.6/site-packages (8.0.1)\n",
      "Note: you may need to restart the kernel to use updated packages.\n"
     ]
    }
   ],
   "source": [
    "%config IPCompleter.greedy=True\n",
    "\n",
    "%matplotlib inline\n",
    "%load_ext autoreload\n",
    "%autoreload 2\n",
    "\n",
    "import os\n",
    "import argparse\n",
    "import pandas as pd\n",
    "import torch\n",
    "import torch.nn as nn\n",
    "import torch.nn.functional as F\n",
    "import torch.optim as optim\n",
    "from torchvision import datasets, transforms, utils\n",
    "from torch.utils.data import Dataset, DataLoader\n",
    "import matplotlib.pyplot as plt\n",
    "from sklearn.model_selection import train_test_split\n",
    "import numpy as np\n",
    "\n",
    "from torch.autograd import Variable\n",
    "\n",
    "import seaborn as sns\n",
    "\n",
    "import h5py\n",
    "#import pywt\n",
    "\n",
    "%pip install pingouin\n",
    "\n",
    "import pingouin as pg\n",
    "%pip install matplotlib -U\n",
    "%pip install Pillow -U\n",
    "\n",
    "import scipy"
   ]
  },
  {
   "cell_type": "code",
   "execution_count": 2,
   "metadata": {},
   "outputs": [
    {
     "name": "stdout",
     "output_type": "stream",
     "text": [
      "/home/ubuntu/Desktop/matt/Shark Behavior Classification\n"
     ]
    }
   ],
   "source": [
    "print(os.getcwd())"
   ]
  },
  {
   "cell_type": "code",
   "execution_count": 3,
   "metadata": {},
   "outputs": [],
   "source": [
    "all_data = './datasets/all_data'\n",
    "\n",
    "paths = [all_data + '/feeding/csv/Feeding_25Hz_',\n",
    "         all_data + '/swimming/csv/Swimming_25Hz_',\n",
    "         all_data + '/resting/csv/Resting_25Hz_',\n",
    "         all_data + '/ndm/csv/NDM_25Hz_']"
   ]
  },
  {
   "cell_type": "code",
   "execution_count": 4,
   "metadata": {},
   "outputs": [],
   "source": [
    "'''\n",
    "Load datasets into pandas\n",
    "'''\n",
    "dfs = []\n",
    "\n",
    "for i in range(7):\n",
    "    df = pd.concat((pd.read_csv(path + str(i+1) + '.csv',\n",
    "                                index_col=['Date_Time'],\n",
    "                                parse_dates=['Date_Time'],\n",
    "                                infer_datetime_format=True) for path in paths), ignore_index=False, sort=False).iloc[:, 1:9]\n",
    "\n",
    "    \n",
    "    df = df.replace(to_replace={\"Non directed motion\": \"NDM\"})\n",
    "    \n",
    "    dfs.append(df)"
   ]
  },
  {
   "cell_type": "code",
   "execution_count": null,
   "metadata": {},
   "outputs": [],
   "source": [
    "static_stats = pd.DataFrame()\n",
    "dynamic_stats = pd.DataFrame()\n",
    "\n",
    "static_norms = pd.DataFrame()\n",
    "dynamic_norms = pd.DataFrame()\n",
    "\n",
    "for i, df in enumerate(dfs):\n",
    "    static_stats['Exp ' + str(i+1)] = pd.concat([df[['X_static', 'Y_static', 'Z_static']].max(),\n",
    "                                                 df[['X_static', 'Y_static', 'Z_static']].min(),\n",
    "                                                 df[['X_static', 'Y_static', 'Z_static']].mean(),\n",
    "                                                 df[['X_static', 'Y_static', 'Z_static']].std()], keys=['Max', 'Min', 'Mean', 'Std'])\n",
    "    \n",
    "    dynamic_stats['Exp ' + str(i+1)] = pd.concat([df[['X_dynamic', 'Y_dynamic', 'Z_dynamic']].max(),\n",
    "                                                  df[['X_dynamic', 'Y_dynamic', 'Z_dynamic']].min(),\n",
    "                                                  df[['X_dynamic', 'Y_dynamic', 'Z_dynamic']].mean(),\n",
    "                                                  df[['X_dynamic', 'Y_dynamic', 'Z_dynamic']].std()], keys=['Max', 'Min', 'Mean', 'Std'])\n",
    "\n",
    "    static_norms['Exp ' + str(i+1)] = pd.concat([pd.Series(np.linalg.norm(df[['X_static', 'Y_static', 'Z_static']].max())),\n",
    "                                                 pd.Series(np.linalg.norm(df[['X_static', 'Y_static', 'Z_static']].min())),\n",
    "                                                 pd.Series(np.linalg.norm(df[['X_static', 'Y_static', 'Z_static']].mean())),\n",
    "                                                 pd.Series(np.linalg.norm(df[['X_static', 'Y_static', 'Z_static']].std()))], keys=['Max', 'Min', 'Mean', 'Std'])\n",
    "    \n",
    "    dynamic_norms['Exp ' + str(i+1)] = pd.concat([pd.Series(np.linalg.norm(df[['X_dynamic', 'Y_dynamic', 'Z_dynamic']].max())),\n",
    "                                                  pd.Series(np.linalg.norm(df[['X_dynamic', 'Y_dynamic', 'Z_dynamic']].min())),\n",
    "                                                  pd.Series(np.linalg.norm(df[['X_dynamic', 'Y_dynamic', 'Z_dynamic']].mean())),\n",
    "                                                  pd.Series(np.linalg.norm(df[['X_dynamic', 'Y_dynamic', 'Z_dynamic']].std()))], keys=['Max', 'Min', 'Mean', 'Std'])\n",
    "\n",
    "    \n",
    "    "
   ]
  },
  {
   "cell_type": "code",
   "execution_count": null,
   "metadata": {},
   "outputs": [],
   "source": [
    "static_stats"
   ]
  },
  {
   "cell_type": "code",
   "execution_count": null,
   "metadata": {},
   "outputs": [],
   "source": [
    "dynamic_stats"
   ]
  },
  {
   "cell_type": "code",
   "execution_count": null,
   "metadata": {},
   "outputs": [],
   "source": [
    "static_norms"
   ]
  },
  {
   "cell_type": "code",
   "execution_count": null,
   "metadata": {},
   "outputs": [],
   "source": [
    "dynamic_norms"
   ]
  },
  {
   "cell_type": "markdown",
   "metadata": {},
   "source": [
    "## Density Estimation for ODBA Distributions"
   ]
  },
  {
   "cell_type": "code",
   "execution_count": 5,
   "metadata": {},
   "outputs": [],
   "source": [
    "def kde_plot(data_df, feature='ODBA', log_scale=False):\n",
    "    label_list = data_df['Label'].unique().tolist()\n",
    "    for label in label_list:\n",
    "        class_data = data_df.loc[data_df['Label'] == label][feature]\n",
    "\n",
    "        # Draw the density plot for original data\n",
    "        ax = sns.kdeplot(data=class_data, legend=True, log_scale=log_scale)\n",
    "\n",
    "    ax.legend(label_list)\n",
    "\n",
    "    plt.show()\n",
    "    plt.clf()"
   ]
  },
  {
   "cell_type": "code",
   "execution_count": 6,
   "metadata": {},
   "outputs": [
    {
     "data": {
      "image/png": "[encoded data removed]",
      "text/plain": [
       "<Figure size 432x288 with 1 Axes>"
      ]
     },
     "metadata": {
      "needs_background": "light"
     },
     "output_type": "display_data"
    },
    {
     "data": {
      "image/png": "[encoded data removed]",
      "text/plain": [
       "<Figure size 432x288 with 1 Axes>"
      ]
     },
     "metadata": {
      "needs_background": "light"
     },
     "output_type": "display_data"
    },
    {
     "data": {
      "image/png": "[encoded data removed]",
      "text/plain": [
       "<Figure size 432x288 with 1 Axes>"
      ]
     },
     "metadata": {
      "needs_background": "light"
     },
     "output_type": "display_data"
    },
    {
     "name": "stderr",
     "output_type": "stream",
     "text": [
      "/opt/conda/envs/shark-rnn/lib/python3.6/site-packages/pandas/core/series.py:726: RuntimeWarning: invalid value encountered in log10\n",
      "  result = getattr(ufunc, method)(*inputs, **kwargs)\n",
      "/opt/conda/envs/shark-rnn/lib/python3.6/site-packages/pandas/core/series.py:726: RuntimeWarning: invalid value encountered in log10\n",
      "  result = getattr(ufunc, method)(*inputs, **kwargs)\n",
      "/opt/conda/envs/shark-rnn/lib/python3.6/site-packages/pandas/core/series.py:726: RuntimeWarning: divide by zero encountered in log10\n",
      "  result = getattr(ufunc, method)(*inputs, **kwargs)\n",
      "/opt/conda/envs/shark-rnn/lib/python3.6/site-packages/pandas/core/series.py:726: RuntimeWarning: invalid value encountered in log10\n",
      "  result = getattr(ufunc, method)(*inputs, **kwargs)\n",
      "/opt/conda/envs/shark-rnn/lib/python3.6/site-packages/seaborn/distributions.py:305: UserWarning: Dataset has 0 variance; skipping density estimate.\n",
      "  warnings.warn(msg, UserWarning)\n",
      "/opt/conda/envs/shark-rnn/lib/python3.6/site-packages/pandas/core/series.py:726: RuntimeWarning: invalid value encountered in log10\n",
      "  result = getattr(ufunc, method)(*inputs, **kwargs)\n"
     ]
    },
    {
     "data": {
      "image/png": "[encoded data removed]",
      "text/plain": [
       "<Figure size 432x288 with 1 Axes>"
      ]
     },
     "metadata": {
      "needs_background": "light"
     },
     "output_type": "display_data"
    },
    {
     "name": "stderr",
     "output_type": "stream",
     "text": [
      "/opt/conda/envs/shark-rnn/lib/python3.6/site-packages/pandas/core/series.py:726: RuntimeWarning: invalid value encountered in log10\n",
      "  result = getattr(ufunc, method)(*inputs, **kwargs)\n",
      "/opt/conda/envs/shark-rnn/lib/python3.6/site-packages/pandas/core/series.py:726: RuntimeWarning: invalid value encountered in log10\n",
      "  result = getattr(ufunc, method)(*inputs, **kwargs)\n",
      "/opt/conda/envs/shark-rnn/lib/python3.6/site-packages/pandas/core/series.py:726: RuntimeWarning: divide by zero encountered in log10\n",
      "  result = getattr(ufunc, method)(*inputs, **kwargs)\n",
      "/opt/conda/envs/shark-rnn/lib/python3.6/site-packages/pandas/core/series.py:726: RuntimeWarning: invalid value encountered in log10\n",
      "  result = getattr(ufunc, method)(*inputs, **kwargs)\n",
      "/opt/conda/envs/shark-rnn/lib/python3.6/site-packages/seaborn/distributions.py:305: UserWarning: Dataset has 0 variance; skipping density estimate.\n",
      "  warnings.warn(msg, UserWarning)\n",
      "/opt/conda/envs/shark-rnn/lib/python3.6/site-packages/pandas/core/series.py:726: RuntimeWarning: invalid value encountered in log10\n",
      "  result = getattr(ufunc, method)(*inputs, **kwargs)\n"
     ]
    },
    {
     "data": {
      "image/png": "[encoded data removed]",
      "text/plain": [
       "<Figure size 432x288 with 1 Axes>"
      ]
     },
     "metadata": {
      "needs_background": "light"
     },
     "output_type": "display_data"
    },
    {
     "name": "stderr",
     "output_type": "stream",
     "text": [
      "/opt/conda/envs/shark-rnn/lib/python3.6/site-packages/pandas/core/series.py:726: RuntimeWarning: invalid value encountered in log10\n",
      "  result = getattr(ufunc, method)(*inputs, **kwargs)\n",
      "/opt/conda/envs/shark-rnn/lib/python3.6/site-packages/pandas/core/series.py:726: RuntimeWarning: invalid value encountered in log10\n",
      "  result = getattr(ufunc, method)(*inputs, **kwargs)\n",
      "/opt/conda/envs/shark-rnn/lib/python3.6/site-packages/pandas/core/series.py:726: RuntimeWarning: divide by zero encountered in log10\n",
      "  result = getattr(ufunc, method)(*inputs, **kwargs)\n",
      "/opt/conda/envs/shark-rnn/lib/python3.6/site-packages/pandas/core/series.py:726: RuntimeWarning: invalid value encountered in log10\n",
      "  result = getattr(ufunc, method)(*inputs, **kwargs)\n",
      "/opt/conda/envs/shark-rnn/lib/python3.6/site-packages/seaborn/distributions.py:305: UserWarning: Dataset has 0 variance; skipping density estimate.\n",
      "  warnings.warn(msg, UserWarning)\n",
      "/opt/conda/envs/shark-rnn/lib/python3.6/site-packages/pandas/core/series.py:726: RuntimeWarning: invalid value encountered in log10\n",
      "  result = getattr(ufunc, method)(*inputs, **kwargs)\n"
     ]
    },
    {
     "data": {
      "image/png": "[encoded data removed]",
      "text/plain": [
       "<Figure size 432x288 with 1 Axes>"
      ]
     },
     "metadata": {
      "needs_background": "light"
     },
     "output_type": "display_data"
    },
    {
     "data": {
      "text/plain": [
       "<Figure size 432x288 with 0 Axes>"
      ]
     },
     "metadata": {},
     "output_type": "display_data"
    }
   ],
   "source": [
    "kde_plot(pd.concat(dfs), feature='X_static')\n",
    "kde_plot(pd.concat(dfs), feature='Y_static')\n",
    "kde_plot(pd.concat(dfs), feature='Z_static')\n",
    "kde_plot(pd.concat(dfs), feature='X_dynamic', log_scale=True)\n",
    "kde_plot(pd.concat(dfs), feature='Y_dynamic', log_scale=True)\n",
    "kde_plot(pd.concat(dfs), feature='Z_dynamic', log_scale=True)"
   ]
  },
  {
   "cell_type": "code",
   "execution_count": null,
   "metadata": {
    "scrolled": true
   },
   "outputs": [],
   "source": [
    "for i, df in enumerate(dfs):\n",
    "    print(\"Normality test for Exp \" + str(i+1))\n",
    "    f_data = df.loc[df['Label'] == 'NDM']['X_dynamic']\n",
    "#     f_data = df[['ODBA']]\n",
    "#     log_f = np.log10(f_data)\n",
    "    \n",
    "#     plt.hist(f_data, bins='auto')\n",
    "#     plt.show()\n",
    "\n",
    "#     plt.hist(log_f, bins='auto')\n",
    "#     plt.show()\n",
    "\n",
    "#     sm.qqplot(f_data, line ='r')\n",
    "#     plt.show()\n",
    "    \n",
    "#     sm.qqplot(log_f, line ='r')\n",
    "#     plt.show()\n",
    "    \n",
    "    print(scipy.stats.normaltest(f_data))\n",
    "#     print(scipy.stats.normaltest(log_f))\n",
    "    \n",
    "#     print(pg.normality(f_data, alpha=0.05))\n",
    "#     print(pg.normality(log_f, alpha=0.05))\n",
    "\n",
    "#     rand_idx = np.random.randint(0,len(df)-5000)\n",
    "#     print(pg.normality(log_f[rand_idx:rand_idx+5000]), alpha=0.05)\n",
    "    \n",
    "#     print(pg.multivariate_normality(df[['X_dynamic', \n",
    "#                                         'Y_dynamic', \n",
    "#                                         'Z_dynamic']][rand_idx:rand_idx+5000], alpha=0.05))"
   ]
  },
  {
   "cell_type": "markdown",
   "metadata": {},
   "source": [
    "## Normality Tests"
   ]
  },
  {
   "cell_type": "code",
   "execution_count": null,
   "metadata": {},
   "outputs": [],
   "source": [
    "mean, cov, n = [4, 5], [(0.6, 0.4), (0.4, 0.6)], 5000\n",
    "x, y = np.random.multivariate_normal(mean, cov, n).T"
   ]
  },
  {
   "cell_type": "code",
   "execution_count": null,
   "metadata": {},
   "outputs": [],
   "source": [
    "print(pg.normality(x))\n",
    "print(pg.normality(y))\n",
    "print(pg.multivariate_normality(np.column_stack((x, y))))"
   ]
  },
  {
   "cell_type": "code",
   "execution_count": null,
   "metadata": {},
   "outputs": [],
   "source": [
    "# plt.hist(x, bins='auto')\n",
    "# plt.show()\n",
    "# plt.hist(y, bins='auto')\n",
    "# plt.show()\n",
    "\n",
    "plt.hist2d(x, y, bins=(69, 69), cmap='gray')\n",
    "plt.show()"
   ]
  },
  {
   "cell_type": "code",
   "execution_count": null,
   "metadata": {},
   "outputs": [],
   "source": [
    "%pip install statsmodels\n",
    "import statsmodels.api as sm"
   ]
  },
  {
   "cell_type": "code",
   "execution_count": null,
   "metadata": {},
   "outputs": [],
   "source": [
    "sm.qqplot(y, line ='45')\n",
    "plt.show()"
   ]
  },
  {
   "cell_type": "markdown",
   "metadata": {},
   "source": [
    "## Data split"
   ]
  },
  {
   "cell_type": "code",
   "execution_count": 7,
   "metadata": {},
   "outputs": [],
   "source": [
    "# Train: 1, 2, 3, 4, 7\n",
    "# Val: 6\n",
    "# Test: 5\n",
    "train_df = pd.concat([dfs[0], dfs[1], dfs[2], dfs[3], dfs[6]])\n",
    "val_df = dfs[5]\n",
    "test_df = dfs[4]"
   ]
  },
  {
   "cell_type": "code",
   "execution_count": 8,
   "metadata": {},
   "outputs": [
    {
     "name": "stdout",
     "output_type": "stream",
     "text": [
      "(1646579, 8)\n",
      "(77650, 8)\n",
      "(16775, 8)\n"
     ]
    }
   ],
   "source": [
    "print(train_df.shape)\n",
    "print(val_df.shape)\n",
    "print(test_df.shape)"
   ]
  },
  {
   "cell_type": "code",
   "execution_count": 9,
   "metadata": {},
   "outputs": [],
   "source": [
    "features = ['X_static', 'Y_static', 'Z_static', 'X_dynamic', 'Y_dynamic', 'Z_dynamic']\n",
    "\n",
    "train_data = train_df[features + ['Label']]\n",
    "val_data = val_df[features + ['Label']]\n",
    "test_data = test_df[features + ['Label']]"
   ]
  },
  {
   "cell_type": "code",
   "execution_count": 10,
   "metadata": {},
   "outputs": [
    {
     "name": "stdout",
     "output_type": "stream",
     "text": [
      "[False, False, False, False, False, False, False]\n",
      "False\n",
      "False\n",
      "False\n"
     ]
    }
   ],
   "source": [
    "print([df[features].isna().values.any() for df in dfs])\n",
    "print(train_data[features].isna().values.any())\n",
    "print(val_data[features].isna().values.any())\n",
    "print(test_data[features].isna().values.any())"
   ]
  },
  {
   "cell_type": "code",
   "execution_count": 11,
   "metadata": {},
   "outputs": [
    {
     "name": "stderr",
     "output_type": "stream",
     "text": [
      "/opt/conda/envs/shark-rnn/lib/python3.6/site-packages/ipykernel_launcher.py:5: SettingWithCopyWarning: \n",
      "A value is trying to be set on a copy of a slice from a DataFrame.\n",
      "Try using .loc[row_indexer,col_indexer] = value instead\n",
      "\n",
      "See the caveats in the documentation: https://pandas.pydata.org/pandas-docs/stable/user_guide/indexing.html#returning-a-view-versus-a-copy\n",
      "  \"\"\"\n",
      "/opt/conda/envs/shark-rnn/lib/python3.6/site-packages/ipykernel_launcher.py:6: SettingWithCopyWarning: \n",
      "A value is trying to be set on a copy of a slice from a DataFrame.\n",
      "Try using .loc[row_indexer,col_indexer] = value instead\n",
      "\n",
      "See the caveats in the documentation: https://pandas.pydata.org/pandas-docs/stable/user_guide/indexing.html#returning-a-view-versus-a-copy\n",
      "  \n",
      "/opt/conda/envs/shark-rnn/lib/python3.6/site-packages/ipykernel_launcher.py:7: SettingWithCopyWarning: \n",
      "A value is trying to be set on a copy of a slice from a DataFrame.\n",
      "Try using .loc[row_indexer,col_indexer] = value instead\n",
      "\n",
      "See the caveats in the documentation: https://pandas.pydata.org/pandas-docs/stable/user_guide/indexing.html#returning-a-view-versus-a-copy\n",
      "  import sys\n"
     ]
    }
   ],
   "source": [
    "for column in features:\n",
    "    mean = np.mean(train_data[column])\n",
    "    std  = np.std(train_data[column])\n",
    "    \n",
    "    train_data[column] = train_data[column].map(lambda x: (x-mean)/std)\n",
    "    val_data[column]   = val_data[column].map(lambda x: (x-mean)/std)\n",
    "    test_data[column]  = test_data[column].map(lambda x: (x-mean)/std)"
   ]
  },
  {
   "cell_type": "code",
   "execution_count": 12,
   "metadata": {},
   "outputs": [
    {
     "name": "stdout",
     "output_type": "stream",
     "text": [
      "X_static     1.039045e-14\n",
      "Y_static    -1.001358e-13\n",
      "Z_static     1.205761e-14\n",
      "X_dynamic    2.604293e-17\n",
      "Y_dynamic    3.610452e-17\n",
      "Z_dynamic    1.876561e-17\n",
      "dtype: float64\n",
      "X_static     1.0\n",
      "Y_static     1.0\n",
      "Z_static     1.0\n",
      "X_dynamic    1.0\n",
      "Y_dynamic    1.0\n",
      "Z_dynamic    1.0\n",
      "dtype: float64\n",
      "X_static    -0.296300\n",
      "Y_static    -2.296768\n",
      "Z_static    -1.297910\n",
      "X_dynamic    0.000275\n",
      "Y_dynamic   -0.000951\n",
      "Z_dynamic   -0.000327\n",
      "dtype: float64\n",
      "X_static     0.422972\n",
      "Y_static     0.209462\n",
      "Z_static     0.345657\n",
      "X_dynamic    0.964835\n",
      "Y_dynamic    1.016925\n",
      "Z_dynamic    1.143621\n",
      "dtype: float64\n",
      "X_static    -1.425582\n",
      "Y_static    -2.124064\n",
      "Z_static    -0.016430\n",
      "X_dynamic    0.000889\n",
      "Y_dynamic   -0.004651\n",
      "Z_dynamic   -0.003128\n",
      "dtype: float64\n",
      "X_static     0.376818\n",
      "Y_static     0.379074\n",
      "Z_static     0.764068\n",
      "X_dynamic    2.443314\n",
      "Y_dynamic    2.246670\n",
      "Z_dynamic    2.751217\n",
      "dtype: float64\n"
     ]
    }
   ],
   "source": [
    "print(np.mean(train_data[features]))\n",
    "print(np.std(train_data[features]))\n",
    "\n",
    "print(np.mean(val_data[features]))\n",
    "print(np.std(val_data[features]))\n",
    "\n",
    "print(np.mean(test_data[features]))\n",
    "print(np.std(test_data[features]))"
   ]
  },
  {
   "cell_type": "code",
   "execution_count": null,
   "metadata": {},
   "outputs": [],
   "source": [
    "kde_plot(train_data, feature='X_static')\n",
    "kde_plot(train_data, feature='Y_static')\n",
    "kde_plot(train_data, feature='Z_static')\n",
    "kde_plot(train_data, feature='X_dynamic', log_scale=True)\n",
    "kde_plot(train_data, feature='Y_dynamic', log_scale=True)\n",
    "kde_plot(train_data, feature='Z_dynamic', log_scale=True)"
   ]
  },
  {
   "cell_type": "code",
   "execution_count": null,
   "metadata": {},
   "outputs": [],
   "source": [
    "kde_plot(val_data, feature='X_static')\n",
    "kde_plot(val_data, feature='Y_static')\n",
    "kde_plot(val_data, feature='Z_static')\n",
    "kde_plot(val_data, feature='X_dynamic', log_scale=True)\n",
    "kde_plot(val_data, feature='Y_dynamic', log_scale=True)\n",
    "kde_plot(val_data, feature='Z_dynamic', log_scale=True)"
   ]
  },
  {
   "cell_type": "code",
   "execution_count": null,
   "metadata": {},
   "outputs": [],
   "source": [
    "kde_plot(test_data, feature='X_static')\n",
    "kde_plot(test_data, feature='Y_static')\n",
    "kde_plot(test_data, feature='Z_static')\n",
    "kde_plot(test_data, feature='X_dynamic', log_scale=True)\n",
    "kde_plot(test_data, feature='Y_dynamic', log_scale=True)\n",
    "kde_plot(test_data, feature='Z_dynamic', log_scale=True)"
   ]
  },
  {
   "cell_type": "markdown",
   "metadata": {},
   "source": [
    "## Group contiguous time intervals"
   ]
  },
  {
   "cell_type": "code",
   "execution_count": 13,
   "metadata": {},
   "outputs": [],
   "source": [
    "def group_times(df):\n",
    "    time_diff = df.index.to_series().diff()\n",
    "    breaks = time_diff > pd.Timedelta('1s')\n",
    "    groups = breaks.cumsum()\n",
    "    \n",
    "    df['Group'] = groups\n",
    "    \n",
    "    return df"
   ]
  },
  {
   "cell_type": "code",
   "execution_count": 14,
   "metadata": {},
   "outputs": [],
   "source": [
    "train_data = group_times(train_data)\n",
    "val_data = group_times(val_data)\n",
    "test_data = group_times(test_data)"
   ]
  },
  {
   "cell_type": "code",
   "execution_count": 30,
   "metadata": {},
   "outputs": [],
   "source": [
    "groups = train_data['Group'].unique()\n",
    "all_groups = set(groups)\n",
    "\n",
    "decomp = set()\n",
    "for label in ['Feeding', 'Swimming', 'Resting', 'NDM']:\n",
    "    fd = train_data[train_data['Label'] == label]\n",
    "    decomp |= set(fd['Group'].unique())\n",
    "    \n",
    "assert(all_groups == decomp)"
   ]
  },
  {
   "cell_type": "code",
   "execution_count": 72,
   "metadata": {},
   "outputs": [
    {
     "data": {
      "image/png": "[encoded data removed]",
      "text/plain": [
       "<Figure size 432x288 with 1 Axes>"
      ]
     },
     "metadata": {
      "needs_background": "light"
     },
     "output_type": "display_data"
    },
    {
     "name": "stdout",
     "output_type": "stream",
     "text": [
      "147.05882352941177\n",
      "12.300325620918448\n"
     ]
    },
    {
     "data": {
      "image/png": "[encoded data removed]",
      "text/plain": [
       "<Figure size 432x288 with 1 Axes>"
      ]
     },
     "metadata": {
      "needs_background": "light"
     },
     "output_type": "display_data"
    },
    {
     "name": "stdout",
     "output_type": "stream",
     "text": [
      "147.05882352941177\n",
      "11.160437416239532\n"
     ]
    },
    {
     "data": {
      "image/png": "[encoded data removed]",
      "text/plain": [
       "<Figure size 432x288 with 1 Axes>"
      ]
     },
     "metadata": {
      "needs_background": "light"
     },
     "output_type": "display_data"
    },
    {
     "name": "stdout",
     "output_type": "stream",
     "text": [
      "147.05882352941177\n",
      "12.511620895769115\n"
     ]
    },
    {
     "data": {
      "text/plain": [
       "<Figure size 432x288 with 0 Axes>"
      ]
     },
     "metadata": {},
     "output_type": "display_data"
    }
   ],
   "source": [
    "from collections import Counter\n",
    "\n",
    "for i in range(3):\n",
    "    freqs = {}\n",
    "    for i in range(40000):\n",
    "        sample = groups[np.random.randint(len(groups))]\n",
    "        if sample in freqs.keys():\n",
    "            freqs[sample] += 1\n",
    "        else:\n",
    "            freqs[sample] = 1\n",
    "\n",
    "    plt.bar(freqs.keys(), freqs.values(), 1, color='b')\n",
    "    plt.show()\n",
    "    plt.clf()\n",
    "    \n",
    "    print(np.mean(np.array(list(freqs.values()))))\n",
    "    print(np.std(np.array(list(freqs.values()))))"
   ]
  },
  {
   "cell_type": "code",
   "execution_count": null,
   "metadata": {},
   "outputs": [],
   "source": [
    "def sample_sequences(df, num_samples=None, seq_len=50, dims=1, train=True):\n",
    "    X = []\n",
    "    Y = []\n",
    "    \n",
    "    label_list = ['Feeding', 'Swimming', 'Resting', 'NDM']\n",
    "    \n",
    "    for idx, label in enumerate(label_list):\n",
    "        print(str(idx) + \": \" + label)\n",
    "        \n",
    "        class_df = df.loc[df['Label'] == label]\n",
    "        if train:\n",
    "            X_class = np.zeros((num_samples, seq_len, dims), dtype=np.float32)\n",
    "            Y_class = np.full((num_samples, 1), idx, dtype=np.int64)\n",
    "            \n",
    "            for i in range(num_samples):\n",
    "                groups = class_df['Group'].unique()\n",
    "\n",
    "                chunk_idx = groups[np.random.randint(len(groups))]\n",
    "                    \n",
    "                data = class_df.loc[class_df['Group'] == chunk_idx][features].to_numpy()\n",
    "                \n",
    "                rand = np.random.randint(len(data)-seq_len)\n",
    "                \n",
    "                if dims == 1:\n",
    "                    X_class[i] = np.expand_dims(data[rand:rand+seq_len], axis=1)\n",
    "                else:\n",
    "                    X_class[i] = data[rand:rand+seq_len]\n",
    "                \n",
    "        else:\n",
    "            data = df.loc[df['Label'] == label][features].to_numpy()\n",
    "            \n",
    "            num_samples = len(data)//50\n",
    "            print(num_samples)\n",
    "            \n",
    "            X_class = np.zeros((num_samples, seq_len, dims), dtype=np.float32)\n",
    "            Y_class = np.full((num_samples, 1), idx, dtype=np.int64)\n",
    "            \n",
    "            for i in range(num_samples):\n",
    "                if dims == 1:\n",
    "                    X_class[i] = np.expand_dims(data[seq_len*i:seq_len*(i+1)], axis=1)\n",
    "                else:\n",
    "                    X_class[i] = data[seq_len*i:seq_len*(i+1)]\n",
    "                    \n",
    "        X.append(X_class)\n",
    "        Y.append(Y_class)\n",
    "        \n",
    "    return np.concatenate(X), np.concatenate(Y)"
   ]
  },
  {
   "cell_type": "code",
   "execution_count": 59,
   "metadata": {
    "scrolled": true
   },
   "outputs": [
    {
     "name": "stdout",
     "output_type": "stream",
     "text": [
      "0: Feeding\n",
      "1: Swimming\n",
      "2: Resting\n",
      "3: NDM\n"
     ]
    }
   ],
   "source": [
    "X_train, Y_train = sample_sequences(train_data, num_samples=10000, dims=6)"
   ]
  },
  {
   "cell_type": "code",
   "execution_count": 62,
   "metadata": {},
   "outputs": [],
   "source": [
    "from sklearn.utils import shuffle\n",
    "\n",
    "X_train, Y_train = shuffle(X_train, Y_train, random_state=33)"
   ]
  },
  {
   "cell_type": "code",
   "execution_count": 63,
   "metadata": {},
   "outputs": [
    {
     "data": {
      "text/plain": [
       "array([[[-1.44526196e+00,  6.01968944e-01, -1.25435978e-01,\n",
       "          3.61848652e-01,  4.82883215e-01,  1.00672174e+00],\n",
       "        [-1.44577408e+00,  6.01541400e-01, -1.26112103e-01,\n",
       "          2.75965780e-01,  2.48849168e-01,  1.10699487e+00],\n",
       "        [-1.44628382e+00,  6.01112247e-01, -1.26653463e-01,\n",
       "          9.93255675e-02,  1.37387067e-01,  1.01806402e+00],\n",
       "        ...,\n",
       "        [-1.45759797e+00,  6.01189554e-01, -1.16427727e-01,\n",
       "          2.34314296e-02,  1.35957435e-01, -5.83235443e-01],\n",
       "        [-1.45810521e+00,  6.01189554e-01, -1.17641866e-01,\n",
       "          1.21354550e-01,  2.55424470e-01, -5.71924508e-01],\n",
       "        [-1.45848572e+00,  6.01189554e-01, -1.19124748e-01,\n",
       "          2.15740278e-01,  3.77954155e-01, -5.58109939e-01]],\n",
       "\n",
       "       [[-1.18518364e+00, -2.42656112e+00, -2.88803637e-01,\n",
       "         -1.20722890e-01, -5.33933826e-02, -1.35273309e-02],\n",
       "        [-1.18480313e+00, -2.42656112e+00, -2.89745152e-01,\n",
       "          5.71581237e-02, -5.33933826e-02, -9.87327769e-02],\n",
       "        [-1.18416905e+00, -2.42664671e+00, -2.90686667e-01,\n",
       "          5.11079766e-02, -5.18004857e-02,  4.01476026e-03],\n",
       "        ...,\n",
       "        [-1.16346025e+00, -2.43032336e+00, -3.20815027e-01,\n",
       "          3.50355990e-02,  1.36161447e-01,  2.76200334e-03],\n",
       "        [-1.16307974e+00, -2.43032336e+00, -3.21353018e-01,\n",
       "          3.14053707e-02,  1.36161447e-01,  7.77394651e-03],\n",
       "        [-1.16269934e+00, -2.43049431e+00, -3.21891040e-01,\n",
       "          2.77751405e-02,  1.98798832e-02, -8.11904669e-02]],\n",
       "\n",
       "       [[ 7.37459481e-01,  5.49962997e-01,  3.34435225e-01,\n",
       "          7.89397359e-02, -1.04365803e-01,  1.65452696e-02],\n",
       "        [ 7.37586260e-01,  5.49877465e-01,  3.34300727e-01,\n",
       "         -1.30253369e-02, -1.02773212e-01, -7.61783794e-02],\n",
       "        [ 7.37713099e-01,  5.49791992e-01,  3.34166229e-01,\n",
       "          7.65188858e-02, -1.01180315e-01, -7.49253631e-02],\n",
       "        ...,\n",
       "        [ 7.39995956e-01,  5.51159978e-01,  3.33493710e-01,\n",
       "         -1.26773283e-01,  1.12267986e-01,  2.53163986e-02],\n",
       "        [ 7.39995956e-01,  5.51159978e-01,  3.33493710e-01,\n",
       "         -3.60175371e-02,  1.12267986e-01,  2.53163986e-02],\n",
       "        [ 7.39995956e-01,  5.51159978e-01,  3.33628207e-01,\n",
       "          5.47379740e-02, -7.19910348e-03,  1.18039787e-01]],\n",
       "\n",
       "       ...,\n",
       "\n",
       "       [[ 5.70286691e-01,  5.52674353e-01,  2.76247770e-01,\n",
       "          1.10358105e+01,  1.40124393e+00, -1.22934413e+00],\n",
       "        [ 5.73459685e-01,  5.52245200e-01,  2.72877485e-01,\n",
       "         -4.45979834e-01, -3.73703074e+00,  1.24784660e+00],\n",
       "        [ 5.76001048e-01,  5.51988721e-01,  2.69644260e-01,\n",
       "         -5.10805321e+00, -7.08346367e+00,  2.44243443e-01],\n",
       "        ...,\n",
       "        [ 5.54519117e-01,  6.22369111e-01,  8.15515965e-02,\n",
       "         -2.17577505e+00,  1.77537572e+00, -3.36979485e+00],\n",
       "        [ 5.51724136e-01,  6.24593794e-01,  7.65672773e-02,\n",
       "         -2.05836487e+00,  1.61445332e+00, -3.32336068e+00],\n",
       "        [ 5.49436390e-01,  6.25879586e-01,  7.21235499e-02,\n",
       "         -1.76425588e+00,  1.35158229e+00, -3.37593961e+00]],\n",
       "\n",
       "       [[-1.31242418e+00,  6.32071853e-01, -5.36915436e-02,\n",
       "          1.92974345e-03,  2.80461133e-01,  1.09016097e+00],\n",
       "        [-1.31941164e+00,  6.30360186e-01, -5.90783320e-02,\n",
       "         -2.03658983e-01,  5.51295102e-01,  3.88533741e-01],\n",
       "        [-1.32424068e+00,  6.29847169e-01, -6.27168566e-02,\n",
       "         -2.48339429e-01,  6.80319846e-01, -4.74535748e-02],\n",
       "        ...,\n",
       "        [-1.42408001e+00,  6.23498738e-01, -2.41334930e-01,\n",
       "         -7.50148833e-01, -1.23540628e+00,  2.36837125e+00],\n",
       "        [-1.42585552e+00,  6.23242199e-01, -2.44835600e-01,\n",
       "         -1.00547504e+00, -1.11116016e+00,  2.40098333e+00],\n",
       "        [-1.42521894e+00,  6.24184370e-01, -2.45373607e-01,\n",
       "         -1.01155567e+00, -1.12872195e+00,  2.31201887e+00]],\n",
       "\n",
       "       [[ 3.13771665e-01,  6.78549826e-01,  2.82248616e-01,\n",
       "          3.05366740e-02,  1.19148428e-02,  2.20787346e-01],\n",
       "        [ 3.13644856e-01,  6.78549826e-01,  2.82114118e-01,\n",
       "          3.17467526e-02, -1.07551605e-01,  1.28064200e-01],\n",
       "        [ 3.13518018e-01,  6.78549826e-01,  2.82114118e-01,\n",
       "          3.29568274e-02,  1.19154248e-02,  1.28063962e-01],\n",
       "        ...,\n",
       "        [ 3.15420359e-01,  6.78549826e-01,  2.81576127e-01,\n",
       "          1.48056792e-02, -1.07550986e-01,  3.90996411e-02],\n",
       "        [ 3.15547198e-01,  6.78635299e-01,  2.81710625e-01,\n",
       "          1.35956258e-02,  1.03225270e-02,  3.78466174e-02],\n",
       "        [ 3.15420359e-01,  6.78720832e-01,  2.81979620e-01,\n",
       "          1.48056792e-02,  8.72962922e-03,  3.53405736e-02]]],\n",
       "      dtype=float32)"
      ]
     },
     "execution_count": 63,
     "metadata": {},
     "output_type": "execute_result"
    }
   ],
   "source": [
    "X_train"
   ]
  },
  {
   "cell_type": "code",
   "execution_count": null,
   "metadata": {},
   "outputs": [],
   "source": [
    "X_val, Y_val = sample_sequences(val_data, num_samples=2000, dims=6)"
   ]
  },
  {
   "cell_type": "code",
   "execution_count": null,
   "metadata": {},
   "outputs": [],
   "source": []
  },
  {
   "cell_type": "code",
   "execution_count": null,
   "metadata": {},
   "outputs": [],
   "source": [
    "X_val, Y_val = shuffle(X_val, Y_val, random_state=33)"
   ]
  },
  {
   "cell_type": "code",
   "execution_count": null,
   "metadata": {
    "scrolled": true
   },
   "outputs": [],
   "source": [
    "print(X_train.mean())\n",
    "print(X_train.std())\n",
    "\n",
    "print(X_val.mean())\n",
    "print(X_val.std())"
   ]
  },
  {
   "cell_type": "code",
   "execution_count": null,
   "metadata": {},
   "outputs": [],
   "source": [
    "from collections import Counter\n",
    "\n",
    "print(Counter(np.squeeze(Y_train).tolist()))\n",
    "print(Counter(np.squeeze(Y_val).tolist()))"
   ]
  },
  {
   "cell_type": "code",
   "execution_count": null,
   "metadata": {},
   "outputs": [],
   "source": [
    "test_data.count()"
   ]
  },
  {
   "cell_type": "code",
   "execution_count": null,
   "metadata": {},
   "outputs": [],
   "source": [
    "X_test, Y_test = sample_sequences(test_data, train=False, dims=6)"
   ]
  },
  {
   "cell_type": "code",
   "execution_count": null,
   "metadata": {},
   "outputs": [],
   "source": [
    "print(X_test.shape)\n",
    "print(Y_test.shape)"
   ]
  },
  {
   "cell_type": "code",
   "execution_count": null,
   "metadata": {},
   "outputs": [],
   "source": []
  },
  {
   "cell_type": "code",
   "execution_count": null,
   "metadata": {},
   "outputs": [],
   "source": [
    "test_odba['Label'].value_counts()//50"
   ]
  },
  {
   "cell_type": "code",
   "execution_count": null,
   "metadata": {},
   "outputs": [],
   "source": [
    "sum(test_odba['Label'].value_counts()//50)"
   ]
  },
  {
   "cell_type": "code",
   "execution_count": null,
   "metadata": {},
   "outputs": [],
   "source": [
    "## This estimates the distribution of each sequence (40,000/2,000 distributions, each of 50 samples)\n",
    "ax = sns.kdeplot(data=np.squeeze(X_train).T, legend=False)\n",
    "\n",
    "plt.show()\n",
    "plt.clf()\n",
    "\n",
    "ax = sns.kdeplot(data=np.squeeze(X_val).T, legend=False)\n",
    "\n",
    "plt.show()\n",
    "plt.clf()"
   ]
  },
  {
   "cell_type": "code",
   "execution_count": null,
   "metadata": {},
   "outputs": [],
   "source": [
    "## This estimates the distribution of each sequence element (50 distributions, each of 40,000/2,000 samples)\n",
    "ax = sns.kdeplot(data=np.squeeze(X_train), legend=False)\n",
    "\n",
    "plt.show()\n",
    "plt.clf()\n",
    "\n",
    "ax = sns.kdeplot(data=np.squeeze(X_val), legend=False)\n",
    "\n",
    "plt.show()\n",
    "plt.clf()"
   ]
  },
  {
   "cell_type": "code",
   "execution_count": null,
   "metadata": {},
   "outputs": [],
   "source": [
    "## This estimates the distribution over the train and val sets, respectively\n",
    "ax = sns.kdeplot(data=train_odba['ODBA'], legend=False)\n",
    "\n",
    "plt.show()\n",
    "plt.clf()\n",
    "\n",
    "ax = sns.kdeplot(data=val_odba['ODBA'], legend=False)\n",
    "\n",
    "plt.show()\n",
    "plt.clf()"
   ]
  },
  {
   "cell_type": "code",
   "execution_count": null,
   "metadata": {},
   "outputs": [],
   "source": [
    "ax = sns.kdeplot(data=X_train.flatten(), legend=False)\n",
    "\n",
    "plt.show()\n",
    "plt.clf()\n",
    "\n",
    "ax = sns.kdeplot(data=X_val.flatten(), legend=False)\n",
    "\n",
    "plt.show()\n",
    "plt.clf()"
   ]
  },
  {
   "cell_type": "code",
   "execution_count": null,
   "metadata": {},
   "outputs": [],
   "source": [
    "def write(data, gts, outfile):\n",
    "    '''\n",
    "        This function writes the pre-processed image data to a HDF5 file\n",
    "        Args:\n",
    "          data: numpy.array, image data as numpy array\n",
    "          outfile: string, path to write file to\n",
    "    '''\n",
    "    print(\"---------------------------------------\")\n",
    "    print(\"Saving data\")\n",
    "    print(\"---------------------------------------\\n\")\n",
    "    with h5py.File(outfile, \"w\") as f:\n",
    "        f.create_dataset(\"features\", data=data, dtype=data.dtype)\n",
    "        f.create_dataset(\"gts\", data=gts, dtype=gts.dtype)\n",
    "\n",
    "def load(infile, dataset):\n",
    "    '''\n",
    "        This function loads the image data from a HDF5 file \n",
    "        Args:\n",
    "          outfile: string, path to read file from\n",
    "          \n",
    "        Returns:\n",
    "          f[\"image\"][()]: numpy.array, image data as numpy array\n",
    "    '''\n",
    "    print(\"---------------------------------------\")\n",
    "    print(\"Loading data\")\n",
    "    print(\"---------------------------------------\\n\")\n",
    "    with h5py.File(infile, \"r\") as f:\n",
    "        return f[dataset][()]"
   ]
  },
  {
   "cell_type": "code",
   "execution_count": null,
   "metadata": {},
   "outputs": [],
   "source": [
    "write(X_train, Y_train, './datasets/data/2d/train/data.hdf5')\n",
    "write(X_val, Y_val, './datasets/data/2d/val/data.hdf5')\n",
    "write(X_test, Y_test, './datasets/data/2d/test/orig/data.hdf5')"
   ]
  },
  {
   "cell_type": "code",
   "execution_count": null,
   "metadata": {},
   "outputs": [],
   "source": [
    "X_train"
   ]
  },
  {
   "cell_type": "code",
   "execution_count": null,
   "metadata": {},
   "outputs": [],
   "source": []
  },
  {
   "cell_type": "code",
   "execution_count": null,
   "metadata": {},
   "outputs": [],
   "source": []
  },
  {
   "cell_type": "code",
   "execution_count": null,
   "metadata": {},
   "outputs": [],
   "source": []
  }
 ],
 "metadata": {
  "kernelspec": {
   "display_name": "Python 3",
   "language": "python",
   "name": "python3"
  },
  "language_info": {
   "codemirror_mode": {
    "name": "ipython",
    "version": 3
   },
   "file_extension": ".py",
   "mimetype": "text/x-python",
   "name": "python",
   "nbconvert_exporter": "python",
   "pygments_lexer": "ipython3",
   "version": "3.6.9"
  }
 },
 "nbformat": 4,
 "nbformat_minor": 4
}
