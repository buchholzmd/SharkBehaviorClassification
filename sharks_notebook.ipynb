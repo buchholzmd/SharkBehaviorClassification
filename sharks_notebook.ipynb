{
 "cells": [
  {
   "cell_type": "code",
   "execution_count": 1,
   "metadata": {},
   "outputs": [],
   "source": [
    "%config IPCompleter.greedy=True\n",
    "\n",
    "%matplotlib inline\n",
    "%load_ext autoreload\n",
    "%autoreload 2\n",
    "\n",
    "import os\n",
    "import argparse\n",
    "import pandas as pd\n",
    "import torch\n",
    "import torch.nn as nn\n",
    "import torch.nn.functional as F\n",
    "import torch.optim as optim\n",
    "from torchvision import datasets, transforms, utils\n",
    "from torch.utils.data import Dataset, DataLoader\n",
    "import matplotlib.pyplot as plt\n",
    "from sklearn.model_selection import train_test_split\n",
    "import numpy as np\n",
    "\n",
    "from torch.autograd import Variable\n",
    "\n",
    "import seaborn as sns\n",
    "\n",
    "import h5py\n",
    "#import pywt"
   ]
  },
  {
   "cell_type": "markdown",
   "metadata": {},
   "source": [
    "## Set model parameters"
   ]
  },
  {
   "cell_type": "code",
   "execution_count": 2,
   "metadata": {},
   "outputs": [
    {
     "name": "stdout",
     "output_type": "stream",
     "text": [
      "./models/rcnn/2d/RCNN\n",
      "./results/orig\n",
      "RCNN_2d_orig.txt\n"
     ]
    }
   ],
   "source": [
    "# modelType = 'rnn'\n",
    "# modelType = 'cnn'\n",
    "modelType = 'rcnn'\n",
    "\n",
    "# expDim = '1d'\n",
    "expDim = '2d'\n",
    "\n",
    "# archType = 'LSTM'\n",
    "# archType = 'GRU'\n",
    "# archType = 'VGG1'\n",
    "# archType = 'VGG2'\n",
    "# archType = 'Inception'\n",
    "archType = 'RCNN'\n",
    "\n",
    "testSplit = 'orig'\n",
    "# testSplit = '7000'\n",
    "# testSplit = '12000'\n",
    "\n",
    "wavelet = False\n",
    "\n",
    "folder_ = os.path.join('./models', modelType, expDim, archType)\n",
    "\n",
    "results_folder = os.path.join('./results', testSplit)\n",
    "\n",
    "if wavelet:\n",
    "    results_file = 'wavelet_' + archType + '_' + expDim + '_' + testSplit + '.txt'\n",
    "else:\n",
    "    results_file = archType + '_' + expDim + '_' + testSplit + '.txt'\n",
    "\n",
    "if not os.path.exists(folder_):\n",
    "    os.makedirs(folder_)\n",
    "    \n",
    "print(folder_)\n",
    "\n",
    "if not os.path.exists(results_folder):\n",
    "    os.makedirs(results_folder)\n",
    "    \n",
    "print(results_folder)\n",
    "print(results_file)"
   ]
  },
  {
   "cell_type": "markdown",
   "metadata": {},
   "source": [
    "# Load Data"
   ]
  },
  {
   "cell_type": "code",
   "execution_count": 3,
   "metadata": {},
   "outputs": [],
   "source": [
    "# Loads all xml files in the categorical directory\n",
    "# NOTE: EXCEL COLUMN NAMES MUST BE CONSISTENT\n",
    "def get_data(dir):\n",
    "    df_train = pd.DataFrame()\n",
    "    df_val = pd.DataFrame()\n",
    "    df_test = pd.DataFrame()\n",
    "    for file in os.listdir(dir):\n",
    "        print(file)\n",
    "        df = pd.read_excel(dir + '/' + file, usecols=[1,2,3,4,5,6,7,8])\n",
    "        \n",
    "        print('total:', len(df), '60%: ', len(df)*.6, '20%: ',len(df)*.2)\n",
    "        \n",
    "        train = int(len(df)*.6)\n",
    "        val = int(train + len(df)*.2)\n",
    "        test = int(val + len(df)*.2)\n",
    "        df_train = df_train.append(df.iloc[:train])\n",
    "        df_val = df_val.append(df.iloc[train:val])\n",
    "        df_test = df_test.append(df.iloc[val:test])\n",
    "\n",
    "    return df_train, df_val, df_test"
   ]
  },
  {
   "cell_type": "code",
   "execution_count": null,
   "metadata": {
    "scrolled": true
   },
   "outputs": [],
   "source": [
    "all_data = './datasets/all_data'\n",
    "\n",
    "train_f, val_f, test_f = get_data(all_data + '/feeding')\n",
    "train_r, val_r, test_r = get_data(all_data + '/resting')\n",
    "train_s, val_s, test_s = get_data(all_data + '/swimming')\n",
    "train_n, val_n, test_n = get_data(all_data + '/ndm')"
   ]
  },
  {
   "cell_type": "markdown",
   "metadata": {},
   "source": [
    "### take the log of all data"
   ]
  },
  {
   "cell_type": "code",
   "execution_count": null,
   "metadata": {
    "scrolled": true
   },
   "outputs": [],
   "source": [
    "if wavelet:\n",
    "    #train_f_cA, train_f_cD = pywt.dwt(train_f['ODBA'], 'db2')\n",
    "    logf = np.vstack(pywt.dwt(train_f['ODBA'], 'haar')).T\n",
    "    logr = np.vstack(pywt.dwt(train_r['ODBA'], 'haar')).T\n",
    "    logs = np.vstack(pywt.dwt(train_s['ODBA'], 'haar')).T\n",
    "    logn = np.vstack(pywt.dwt(train_n['ODBA'], 'haar')).T\n",
    "    \n",
    "    logvf = np.vstack(pywt.dwt(val_f['ODBA'], 'haar')).T\n",
    "    logvr = np.vstack(pywt.dwt(val_r['ODBA'], 'haar')).T\n",
    "    logvs = np.vstack(pywt.dwt(val_s['ODBA'], 'haar')).T\n",
    "    logvn = np.vstack(pywt.dwt(val_n['ODBA'], 'haar')).T\n",
    "    \n",
    "    logtf = np.vstack(pywt.dwt(test_f['ODBA'], 'haar')).T\n",
    "    logtr = np.vstack(pywt.dwt(test_r['ODBA'], 'haar')).T\n",
    "    logts = np.vstack(pywt.dwt(test_s['ODBA'], 'haar')).T\n",
    "    logtn = np.vstack(pywt.dwt(test_n['ODBA'], 'haar')).T\n",
    "    \n",
    "    plt.hist(train_f['ODBA'], bins='auto')\n",
    "    plt.show()\n",
    "    \n",
    "    plt.hist(pywt.dwt(train_f['ODBA'], 'haar')[0], bins='auto')\n",
    "    plt.show()\n",
    "    \n",
    "    plt.hist(pywt.dwt(train_f['ODBA'], 'haar')[1], bins='auto')\n",
    "    plt.show()\n",
    "    \n",
    "    print(train_f['ODBA'])\n",
    "    print(pywt.dwt(train_f['ODBA'], 'haar')[0])\n",
    "\n",
    "elif expDim is '1d':\n",
    "    logf= np.log10(train_f['ODBA'])\n",
    "    logr= np.log10(train_r['ODBA'])\n",
    "    logs= np.log10(train_s['ODBA'])\n",
    "    logn= np.log10(train_n['ODBA'])\n",
    "\n",
    "    logvf= np.log10(val_f['ODBA'])\n",
    "    logvr= np.log10(val_r['ODBA'])\n",
    "    logvs= np.log10(val_s['ODBA'])\n",
    "    logvn= np.log10(val_n['ODBA'])\n",
    "\n",
    "    logtf= np.log10(test_f['ODBA'])\n",
    "    logtr= np.log10(test_r['ODBA'])\n",
    "    logts= np.log10(test_s['ODBA'])\n",
    "    logtn= np.log10(test_n['ODBA'])\n",
    "    \n",
    "    plt.hist(train_f['ODBA'], bins='auto')\n",
    "    plt.show()\n",
    "    \n",
    "    plt.hist(logf, bins='auto')\n",
    "    plt.show()\n",
    "\n",
    "elif expDim is '2d':\n",
    "    logf= train_f[['X_static', 'Y_static', 'Z_static', 'X_dynamic', 'Y_dynamic', 'Z_dynamic']].dropna().to_numpy()\n",
    "    logr= train_r[['X_static', 'Y_static', 'Z_static', 'X_dynamic', 'Y_dynamic', 'Z_dynamic']].dropna().to_numpy()\n",
    "    logs= train_s[['X_static', 'Y_static', 'Z_static', 'X_dynamic', 'Y_dynamic', 'Z_dynamic']].dropna().to_numpy()\n",
    "    logn= train_n[['X_static', 'Y_static', 'Z_static', 'X_dynamic', 'Y_dynamic', 'Z_dynamic']].dropna().to_numpy()\n",
    "\n",
    "    logvf= val_f[['X_static', 'Y_static', 'Z_static', 'X_dynamic', 'Y_dynamic', 'Z_dynamic']].dropna().to_numpy()\n",
    "    logvr= val_r[['X_static', 'Y_static', 'Z_static', 'X_dynamic', 'Y_dynamic', 'Z_dynamic']].dropna().to_numpy()\n",
    "    logvs= val_s[['X_static', 'Y_static', 'Z_static', 'X_dynamic', 'Y_dynamic', 'Z_dynamic']].dropna().to_numpy()\n",
    "    logvn= val_n[['X_static', 'Y_static', 'Z_static', 'X_dynamic', 'Y_dynamic', 'Z_dynamic']].dropna().to_numpy()\n",
    "\n",
    "    logtf= test_f[['X_static', 'Y_static', 'Z_static', 'X_dynamic', 'Y_dynamic', 'Z_dynamic']].dropna().to_numpy()\n",
    "    logtr= test_r[['X_static', 'Y_static', 'Z_static', 'X_dynamic', 'Y_dynamic', 'Z_dynamic']].dropna().to_numpy()\n",
    "    logts= test_s[['X_static', 'Y_static', 'Z_static', 'X_dynamic', 'Y_dynamic', 'Z_dynamic']].dropna().to_numpy()\n",
    "    logtn= test_n[['X_static', 'Y_static', 'Z_static', 'X_dynamic', 'Y_dynamic', 'Z_dynamic']].dropna().to_numpy()"
   ]
  },
  {
   "cell_type": "code",
   "execution_count": null,
   "metadata": {},
   "outputs": [],
   "source": [
    "meanf = np.mean(logf)\n",
    "stdf = np.std(logf)\n",
    "\n",
    "meanr = np.mean(logr)\n",
    "stdr = np.std(logr)\n",
    "\n",
    "means = np.mean(logs)\n",
    "stds = np.std(logs)\n",
    "\n",
    "meann = np.mean(logn)\n",
    "stdn = np.std(logn)"
   ]
  },
  {
   "cell_type": "code",
   "execution_count": null,
   "metadata": {},
   "outputs": [],
   "source": [
    "mean_ = (meanf+meanr+means+meann)/4\n",
    "std_ = (stdf+stdr+stds+stdn)/4"
   ]
  },
  {
   "cell_type": "code",
   "execution_count": null,
   "metadata": {},
   "outputs": [],
   "source": [
    "train_feed_X = (logf-mean_)/std_\n",
    "train_rest_X = (logr-mean_)/std_\n",
    "train_swim_X = (logs-mean_)/std_\n",
    "train_ndm_X = (logn-mean_)/std_\n",
    "\n",
    "val_feed_X = (logvf-mean_)/std_\n",
    "val_rest_X = (logvr-mean_)/std_\n",
    "val_swim_X = (logvs-mean_)/std_\n",
    "val_ndm_X = (logvn-mean_)/std_\n",
    "\n",
    "test_feed_X = (logtf-mean_)/std_\n",
    "test_rest_X = (logtr-mean_)/std_\n",
    "test_swim_X = (logts-mean_)/std_\n",
    "test_ndm_X = (logtn-mean_)/std_"
   ]
  },
  {
   "cell_type": "code",
   "execution_count": null,
   "metadata": {},
   "outputs": [],
   "source": [
    "if expDim is '2d':\n",
    "    train_feed_X_nx = train_feed_X\n",
    "    train_swim_X_nx = train_swim_X\n",
    "    train_rest_X_nx = train_rest_X\n",
    "    train_ndm_X_nx = train_ndm_X\n",
    "\n",
    "    val_feed_X_nx = val_feed_X\n",
    "    val_swim_X_nx = val_swim_X\n",
    "    val_rest_X_nx = val_rest_X\n",
    "    val_ndm_X_nx = val_ndm_X\n",
    "\n",
    "    test_feed_X_nx = test_feed_X\n",
    "    test_swim_X_nx = test_swim_X\n",
    "    test_rest_X_nx = test_rest_X\n",
    "    test_ndm_X_nx = test_ndm_X\n",
    "\n",
    "else:\n",
    "    train_feed_X_nx = np.expand_dims(train_feed_X, axis=1)\n",
    "    train_swim_X_nx = np.expand_dims(train_swim_X, axis=1)\n",
    "    train_rest_X_nx = np.expand_dims(train_rest_X, axis=1)\n",
    "    train_ndm_X_nx = np.expand_dims(train_ndm_X, axis=1)\n",
    "\n",
    "    val_feed_X_nx = np.expand_dims(val_feed_X, axis=1)\n",
    "    val_swim_X_nx = np.expand_dims(val_swim_X, axis=1)\n",
    "    val_rest_X_nx = np.expand_dims(val_rest_X, axis=1)\n",
    "    val_ndm_X_nx = np.expand_dims(val_ndm_X, axis=1)\n",
    "\n",
    "    test_feed_X_nx = np.expand_dims(test_feed_X, axis=1)\n",
    "    test_swim_X_nx = np.expand_dims(test_swim_X, axis=1)\n",
    "    test_rest_X_nx = np.expand_dims(test_rest_X, axis=1)\n",
    "    test_ndm_X_nx = np.expand_dims(test_ndm_X, axis=1)"
   ]
  },
  {
   "cell_type": "code",
   "execution_count": null,
   "metadata": {},
   "outputs": [],
   "source": [
    "test_feed_X_nx.shape"
   ]
  },
  {
   "cell_type": "code",
   "execution_count": null,
   "metadata": {},
   "outputs": [],
   "source": [
    "test_swim_X_nx.shape"
   ]
  },
  {
   "cell_type": "code",
   "execution_count": null,
   "metadata": {},
   "outputs": [],
   "source": [
    "test_rest_X_nx.shape"
   ]
  },
  {
   "cell_type": "code",
   "execution_count": null,
   "metadata": {},
   "outputs": [],
   "source": [
    "test_ndm_X_nx.shape"
   ]
  },
  {
   "cell_type": "markdown",
   "metadata": {},
   "source": [
    "# Generate Samples\n",
    "* Train randomly sampled 10000 times in each category to balance data  \n",
    "* Validation randomly sampled 2000 times in each category\n",
    "* Test incrementally sampled    \n",
    "\n",
    "__Classification Labels:__  \n",
    "* Feeding = 0  \n",
    "* Resting = 1  \n",
    "* Swimming = 2\n",
    "* ndm = 3"
   ]
  },
  {
   "cell_type": "code",
   "execution_count": null,
   "metadata": {},
   "outputs": [],
   "source": [
    "# If training, then randomly sample\n",
    "# If test, increment by 50 each time (sliding window non-overlapping)\n",
    "\n",
    "#dims is set to one to only take ODBM\n",
    "#for more data, expand dims\n",
    "\n",
    "# if expDim is '2d' and modelType is 'cnn':\n",
    "#     if wavelet:\n",
    "#         dims = 2\n",
    "#     else:\n",
    "#         dims = 6\n",
    "#     chan = 1\n",
    "#     def gen_samples(data, n_samples, label, n_frames, train=True):\n",
    "#         X = np.zeros((n_samples, chan, dims, n_frames), dtype=np.float32)\n",
    "#         Y = np.full((n_samples, 1), label, dtype=np.int64)\n",
    "#         print(data.shape)\n",
    "#         if train:\n",
    "#             for i in range(n_samples):\n",
    "#                 rand = np.random.randint(low=0, high=len(data)-n_frames)\n",
    "#                 for j in range(dims):\n",
    "#                     X[i][0][j] = data[rand:rand+n_frames, 0, j]\n",
    "#         else:\n",
    "#             for i in range(n_samples):\n",
    "#                 for j in range(dims):\n",
    "#                     X[i][0][j] = data[i*n_frames:i*n_frames+n_frames, 0, j]\n",
    "#         return X, Y\n",
    "    \n",
    "\n",
    "if wavelet:\n",
    "    dims = 2\n",
    "elif expDim is '1d':\n",
    "    dims = 1\n",
    "elif expDim is '2d':\n",
    "    dims = 6\n",
    "\n",
    "\n",
    "def gen_samples(data, n_samples, label, n_frames, train=True):\n",
    "    X = np.zeros((n_samples, dims, n_frames), dtype=np.float32)\n",
    "    Y = np.full((n_samples, 1), label, dtype=np.int64)\n",
    "    if train:\n",
    "        for i in range(0, n_samples):\n",
    "            rand = np.random.randint(low=0, high=len(data)-n_frames)\n",
    "            for j in range(0, dims):\n",
    "                X[i][j] = data[rand:rand+n_frames, j]\n",
    "    else:\n",
    "        for i in range(0, n_samples):\n",
    "            for j in range(0, dims):\n",
    "                X[i][j] = data[i*n_frames:i*n_frames+n_frames, j]\n",
    "        \n",
    "    return X, Y"
   ]
  },
  {
   "cell_type": "code",
   "execution_count": null,
   "metadata": {},
   "outputs": [],
   "source": [
    "(2700/50), (78315/50), (244985/50), (22200/50)"
   ]
  },
  {
   "cell_type": "code",
   "execution_count": null,
   "metadata": {
    "scrolled": true
   },
   "outputs": [],
   "source": [
    "# Generate 10000 train samples in each category\n",
    "seed = 17\n",
    "n_frames = 50\n",
    "np.random.seed(seed)\n",
    "samples_train = 10000\n",
    "samples_val = 3000\n",
    "\n",
    "_train_feed_X, _train_feed_Y = gen_samples(train_feed_X_nx, samples_train, 0, n_frames, train=True)\n",
    "_train_rest_X, _train_rest_Y = gen_samples(train_rest_X_nx, samples_train, 1, n_frames, train=True)\n",
    "_train_swim_X, _train_swim_Y = gen_samples(train_swim_X_nx, samples_train, 2, n_frames, train=True)\n",
    "_train_ndm_X,  _train_ndm_Y  = gen_samples(train_ndm_X_nx, samples_train, 3, n_frames, train=True)\n",
    "\n",
    "train_X = np.concatenate((_train_feed_X, _train_rest_X, _train_swim_X, _train_ndm_X))\n",
    "train_Y = np.concatenate((_train_feed_Y, _train_rest_Y, _train_swim_Y, _train_ndm_Y))\n",
    "\n",
    "_val_feed_X, _val_feed_Y = gen_samples(val_feed_X_nx, samples_val, 0, n_frames, train=True)\n",
    "_val_rest_X, _val_rest_Y = gen_samples(val_rest_X_nx, samples_val, 1, n_frames, train=True)\n",
    "_val_swim_X, _val_swim_Y = gen_samples(val_swim_X_nx, samples_val, 2, n_frames, train=True)\n",
    "_val_ndm_X,  _val_ndm_Y  = gen_samples(val_ndm_X_nx, samples_val, 3, n_frames, train=True)\n",
    "\n",
    "val_X = np.concatenate((_val_feed_X, _val_rest_X, _val_swim_X, _val_ndm_X))\n",
    "val_Y = np.concatenate((_val_feed_Y, _val_rest_Y, _val_swim_Y, _val_ndm_Y))\n",
    "\n",
    "if testSplit is 'orig':\n",
    "    #number of samples generated from sliding window on 20% of data\n",
    "    feed__ = 54\n",
    "    rest__ = 4899\n",
    "    swim__ = 1566\n",
    "    ndm__ = 444\n",
    "#     feed__ = 54//2\n",
    "#     rest__ = 4899//2\n",
    "#     swim__ = 1566//2\n",
    "#     ndm__ = 444//2\n",
    "        \n",
    "    _test_feed_X, _test_feed_Y = gen_samples(test_feed_X_nx, feed__, 0, n_frames, train=False)\n",
    "    _test_rest_X, _test_rest_Y = gen_samples(test_rest_X_nx, rest__, 1, n_frames, train=False)\n",
    "    _test_swim_X, _test_swim_Y = gen_samples(test_swim_X_nx, swim__, 2, n_frames, train=False)\n",
    "    _test_ndm_X,  _test_ndm_Y  = gen_samples(test_ndm_X_nx, ndm__, 3, n_frames, train=False)\n",
    "\n",
    "elif testSplit is '7000':\n",
    "    #create random samples for testing - new test nums....\n",
    "    feed__ = 500\n",
    "    rest__ = 4000\n",
    "    swim__ = 2000\n",
    "    ndm__ = 500\n",
    "\n",
    "    _test_feed_X, _test_feed_Y = gen_samples(test_feed_X_nx, feed__, 0, n_frames, train=True)\n",
    "    _test_rest_X, _test_rest_Y = gen_samples(test_rest_X_nx, rest__, 1, n_frames, train=True)\n",
    "    _test_swim_X, _test_swim_Y = gen_samples(test_swim_X_nx, swim__, 2, n_frames, train=True)\n",
    "    _test_ndm_X,  _test_ndm_Y  = gen_samples(test_ndm_X_nx, ndm__, 3, n_frames, train=True)\n",
    "\n",
    "elif testSplit is '12000':\n",
    "    samples_test = 3000\n",
    "    \n",
    "    #create random samples for testing\n",
    "    _test_feed_X, _test_feed_Y = gen_samples(test_feed_X_nx, samples_test, 0, n_frames, train=True)\n",
    "    _test_rest_X, _test_rest_Y = gen_samples(test_rest_X_nx, samples_test, 1, n_frames, train=True)\n",
    "    _test_swim_X, _test_swim_Y = gen_samples(test_swim_X_nx, samples_test, 2, n_frames, train=True)\n",
    "    _test_ndm_X,  _test_ndm_Y  = gen_samples(test_ndm_X_nx, samples_test, 3, n_frames, train=True)\n",
    "    \n",
    "test_X = np.concatenate((_test_feed_X, _test_rest_X, _test_swim_X, _test_ndm_X))\n",
    "test_Y = np.concatenate((_test_feed_Y, _test_rest_Y, _test_swim_Y, _test_ndm_Y))"
   ]
  },
  {
   "cell_type": "markdown",
   "metadata": {},
   "source": [
    "### Save/load augmented datasets"
   ]
  },
  {
   "cell_type": "code",
   "execution_count": 3,
   "metadata": {},
   "outputs": [],
   "source": [
    "def write(data, outfile):\n",
    "    '''\n",
    "        This function writes the pre-processed image data to a HDF5 file\n",
    "        Args:\n",
    "          data: numpy.array, image data as numpy array\n",
    "          outfile: string, path to write file to\n",
    "    '''\n",
    "    print(\"---------------------------------------\")\n",
    "    print(\"Saving data\")\n",
    "    print(\"---------------------------------------\\n\")\n",
    "    with h5py.File(outfile, \"w\") as f:\n",
    "        f.create_dataset(\"shark_data\", data=data, dtype=data.dtype)\n",
    "\n",
    "def load(infile):\n",
    "    '''\n",
    "        This function loads the image data from a HDF5 file \n",
    "        Args:\n",
    "          outfile: string, path to read file from\n",
    "          \n",
    "        Returns:\n",
    "          f[\"image\"][()]: numpy.array, image data as numpy array\n",
    "    '''\n",
    "    print(\"---------------------------------------\")\n",
    "    print(\"Loading data\")\n",
    "    print(\"---------------------------------------\\n\")\n",
    "    with h5py.File(infile, \"r\") as f:\n",
    "        return f[\"shark_data\"][()]"
   ]
  },
  {
   "cell_type": "code",
   "execution_count": 4,
   "metadata": {},
   "outputs": [
    {
     "name": "stdout",
     "output_type": "stream",
     "text": [
      "---------------------------------------\n",
      "Loading data\n",
      "---------------------------------------\n",
      "\n",
      "---------------------------------------\n",
      "Loading data\n",
      "---------------------------------------\n",
      "\n",
      "---------------------------------------\n",
      "Loading data\n",
      "---------------------------------------\n",
      "\n",
      "---------------------------------------\n",
      "Loading data\n",
      "---------------------------------------\n",
      "\n",
      "---------------------------------------\n",
      "Loading data\n",
      "---------------------------------------\n",
      "\n",
      "---------------------------------------\n",
      "Loading data\n",
      "---------------------------------------\n",
      "\n"
     ]
    }
   ],
   "source": [
    "data_folder = os.path.join('./datasets/data', expDim)\n",
    "    \n",
    "if not os.path.exists(data_folder + '/' + testSplit):\n",
    "    os.makedirs(data_folder + '/' + testSplit)\n",
    "\n",
    "load_data = True\n",
    "\n",
    "if load_data:\n",
    "    train_X = load(data_folder + '/train_data.hdf5')\n",
    "    train_Y = load(data_folder + '/train_gt.hdf5')\n",
    "    val_X   = load(data_folder + '/val_data.hdf5')\n",
    "    val_Y   = load(data_folder + '/val_gt.hdf5')\n",
    "    test_X  = load(data_folder + '/' + testSplit + '/test_data.hdf5')\n",
    "    test_Y  = load(data_folder + '/' + testSplit + '/test_gt.hdf5')\n",
    "\n",
    "else:\n",
    "    write(train_X, data_folder + '/train_data.hdf5')\n",
    "    write(train_Y, data_folder + '/train_gt.hdf5')\n",
    "    write(val_X,   data_folder + '/val_data.hdf5')\n",
    "    write(val_Y, data_folder + '/val_gt.hdf5')\n",
    "    write(test_X, data_folder + '/' + testSplit + '/test_data.hdf5')\n",
    "    write(test_Y, data_folder + '/' + testSplit + '/test_gt.hdf5')"
   ]
  },
  {
   "cell_type": "code",
   "execution_count": 5,
   "metadata": {},
   "outputs": [
    {
     "name": "stdout",
     "output_type": "stream",
     "text": [
      "./data/2d\n"
     ]
    }
   ],
   "source": [
    "print(data_folder)"
   ]
  },
  {
   "cell_type": "code",
   "execution_count": 6,
   "metadata": {},
   "outputs": [],
   "source": [
    "cnn = (modelType is 'cnn') or (modelType is 'rcnn')\n",
    "\n",
    "if cnn and expDim is '2d':\n",
    "    train_X = np.expand_dims(train_X, axis=1)\n",
    "    val_X = np.expand_dims(val_X, axis=1)\n",
    "    test_X = np.expand_dims(test_X, axis=1)"
   ]
  },
  {
   "cell_type": "code",
   "execution_count": 7,
   "metadata": {},
   "outputs": [
    {
     "name": "stdout",
     "output_type": "stream",
     "text": [
      "[[[-0.7239724  -0.71932805 -0.71587414 -0.71388334 -0.7116249\n",
      "   -0.7102969  -0.7088363  -0.70910144 -0.71016437 -0.712823\n",
      "   -0.7149463  -0.71481377 -0.71388334 -0.7150763  -0.7129504\n",
      "   -0.7125528  -0.712823   -0.7142836  -0.71680456 -0.7189304\n",
      "   -0.7210537  -0.72291195 -0.72477275 -0.72623336 -0.72716117\n",
      "   -0.7282216  -0.7291494  -0.73007727 -0.7319355  -0.7299447\n",
      "   -0.72981215 -0.73220056 -0.74056643 -0.74720407 -0.7550347\n",
      "   -0.76313287 -0.770966   -0.7790668  -0.7879603  -0.79712397\n",
      "   -0.80548733 -0.81504864 -0.8264682  -0.8378878  -0.84903723\n",
      "   -0.86085445 -0.8729368  -0.88329345 -0.8929873  -0.9020134 ]\n",
      "  [ 2.343749    2.3450747   2.3445444   2.3429513   2.3406928\n",
      "    2.3404276   2.3404276   2.3405602   2.3408253   2.3414881\n",
      "    2.3418858   2.341223    2.3372414   2.3360484   2.3332598\n",
      "    2.3327296   2.3329947   2.3331273   2.3331273   2.332197\n",
      "    2.3307364   2.329671    2.328873    2.3282104   2.3272824\n",
      "    2.3260894   2.324764    2.3237035   2.3229084   2.3209176\n",
      "    2.3197196   2.3166656   2.3129468   2.310956    2.310956\n",
      "    2.3106859   2.309888    2.3089602   2.307897    2.3063066\n",
      "    2.303913    2.3019223   2.3021874   2.3015246   2.2991335\n",
      "    2.294887    2.2901075   2.2853255   2.2820094   2.2790883 ]\n",
      "  [-0.24721918 -0.25133482 -0.254387   -0.25929794 -0.26288363\n",
      "   -0.26699954 -0.27111518 -0.27417067 -0.27881676 -0.28147435\n",
      "   -0.28572282 -0.29209533 -0.29807022 -0.3021869  -0.3052406\n",
      "   -0.30696884 -0.30816433 -0.30842942 -0.30789924 -0.3067063\n",
      "   -0.3051157  -0.30299237 -0.30060142 -0.2976828  -0.29529437\n",
      "   -0.29343358 -0.29131025 -0.28918692 -0.28706104 -0.28507027\n",
      "   -0.28321126 -0.28427166 -0.283874   -0.28506696 -0.28798634\n",
      "   -0.2913026  -0.2942238  -0.29674473 -0.29846787 -0.30019102\n",
      "   -0.30138394 -0.3020467  -0.30430257 -0.30616337 -0.30483788\n",
      "   -0.29859787 -0.28810868 -0.2774877  -0.26739717 -0.25783658]\n",
      "  [ 0.26126772  0.27676064  0.20346397  0.26137477  0.41842976\n",
      "    0.4270429   0.39550394  0.44572973  0.49649844  0.37960827\n",
      "    0.341967    0.2521091   0.16170804  0.14301765  0.09093312\n",
      "    0.09053548  0.09080414  0.11240271  0.11492445  0.08697043\n",
      "    0.03938873 -0.02834015 -0.15597083 -0.22435248 -0.21348374\n",
      "   -0.33171722 -0.31090707 -0.10096002 -0.05933614  0.00851506\n",
      "    0.00838251 -0.02899287 -0.07058927 -0.06395164 -0.07600339\n",
      "   -0.07784556 -0.04018828  0.00793032 -0.01325375 -0.04385537\n",
      "   -0.04543228 -0.02593072 -0.04433453 -0.02297381 -0.05158732\n",
      "   -0.07978969 -0.07764852 -0.03721439 -0.02752123  0.01132892]\n",
      "  [-0.02828221  0.02009804  0.07058867  0.03216253 -0.17459927\n",
      "   -0.11468723  0.00486156  0.14415987  0.19360055  0.2230172\n",
      "    0.1627172   0.13355622  0.06795172  0.03906551 -0.02773542\n",
      "   -0.04708751 -0.06723503 -0.0974457  -0.0974457  -0.12633802\n",
      "   -0.14475898 -0.16357733 -0.22242542 -0.23170409 -0.23077625\n",
      "   -0.18981893 -0.2483953  -0.2771576  -0.1170494  -0.08523439\n",
      "   -0.09397904 -0.07078657 -0.02730372 -0.01537091 -0.02531202\n",
      "   -0.02504356  0.0155195   0.04627081  0.04733477  0.04892536\n",
      "    0.04137696  0.05330966  0.01327994  0.033825    0.03621444\n",
      "   -0.02912527 -0.07430752 -0.06952558 -0.01624798 -0.01332829]\n",
      "  [ 0.41182783  0.41594192  0.4090545   0.3940816   0.527158\n",
      "    0.5213335   0.2866049  -0.07892609 -0.38296518 -0.40019143\n",
      "   -0.3760599  -0.3398639  -0.29386947 -0.29969397 -0.3267186\n",
      "   -0.42440197 -0.5328141  -0.68192124 -0.6824515  -0.78305596\n",
      "   -0.8644307  -0.90631866 -0.9385331  -0.9414517  -0.8643135\n",
      "   -0.7665027  -0.599374   -0.5319092  -0.47413322 -0.37671244\n",
      "   -0.3186688  -0.2480211  -0.17883089 -0.10779496 -0.03528744\n",
      "    0.00804936  0.0209099   0.00354958  0.04503734  0.05670164\n",
      "    0.04795342  0.06849848  0.08069628  0.08255553  0.10111236\n",
      "    0.0650489   0.11420716  0.15354712  0.13351543  0.10381763]]]\n",
      "[[[-5.71164012e-01 -5.67712665e-01 -5.65851867e-01 -5.64523876e-01\n",
      "   -5.63728571e-01 -5.63993633e-01 -5.66116989e-01 -5.69303274e-01\n",
      "   -5.71956754e-01 -5.73414803e-01 -5.75137973e-01 -5.76333404e-01\n",
      "   -5.77664018e-01 -5.78326762e-01 -5.77133834e-01 -5.74875414e-01\n",
      "   -5.72619498e-01 -5.69298148e-01 -5.64388752e-01 -5.58148742e-01\n",
      "   -5.51240921e-01 -5.45133471e-01 -5.39556265e-01 -5.34911931e-01\n",
      "   -5.29734910e-01 -5.24425268e-01 -5.32658637e-01 -5.37568033e-01\n",
      "   -5.34649372e-01 -5.29472351e-01 -5.26421189e-01 -5.20048618e-01\n",
      "   -5.12348056e-01 -5.04915118e-01 -4.98675138e-01 -4.93630648e-01\n",
      "   -4.89513993e-01 -4.86195177e-01 -4.82476175e-01 -4.77031469e-01\n",
      "   -4.70924020e-01 -4.64551479e-01 -4.58178937e-01 -4.51408774e-01\n",
      "   -4.43840742e-01 -4.36938018e-01 -4.29770172e-01 -4.21669424e-01\n",
      "   -4.13968831e-01 -4.08656687e-01]\n",
      "  [-2.29572535e+00 -2.29532528e+00 -2.29492497e+00 -2.29598546e+00\n",
      "   -2.29731083e+00 -2.29651046e+00 -2.29598045e+00 -2.29398966e+00\n",
      "   -2.29398966e+00 -2.29465485e+00 -2.29519010e+00 -2.29559040e+00\n",
      "   -2.29559040e+00 -2.29585552e+00 -2.29731607e+00 -2.29957438e+00\n",
      "   -2.30236316e+00 -2.30488920e+00 -2.30715013e+00 -2.30953860e+00\n",
      "   -2.31113172e+00 -2.31060147e+00 -2.30900836e+00 -2.30755043e+00\n",
      "   -2.30502939e+00 -2.30051494e+00 -2.29600072e+00 -2.28949571e+00\n",
      "   -2.28299069e+00 -2.27980423e+00 -2.27369690e+00 -2.26625896e+00\n",
      "   -2.25829315e+00 -2.25032759e+00 -2.24262953e+00 -2.23546171e+00\n",
      "   -2.22948933e+00 -2.22497511e+00 -2.22165871e+00 -2.21980047e+00\n",
      "   -2.21887255e+00 -2.21874022e+00 -2.21927023e+00 -2.21980047e+00\n",
      "   -2.22086096e+00 -2.22152615e+00 -2.22192645e+00 -2.22391963e+00\n",
      "   -2.22630811e+00 -2.22829890e+00]\n",
      "  [ 9.23336089e-01  9.23998833e-01  9.25591946e-01  9.23998833e-01\n",
      "    9.22538221e-01  9.20677423e-01  9.22803342e-01  9.27049994e-01\n",
      "    9.27712739e-01  9.26782310e-01  9.26517248e-01  9.26252127e-01\n",
      "    9.27049994e-01  9.28380549e-01  9.27982926e-01  9.26657438e-01\n",
      "    9.25199389e-01  9.22410786e-01  9.19227064e-01  9.16170776e-01\n",
      "    9.13914919e-01  9.12987053e-01  9.13649797e-01  9.14845288e-01\n",
      "    9.17501390e-01  9.24404085e-01  9.37149167e-01  9.56664443e-01\n",
      "    9.72595751e-01  9.82554793e-01  9.92646337e-01  1.00419331e+00\n",
      "    1.01587546e+00  1.02862060e+00  1.04189837e+00  1.05424583e+00\n",
      "    1.06460249e+00  1.07336342e+00  1.08026612e+00  1.08424771e+00\n",
      "    1.08690119e+00  1.08968735e+00  1.09168065e+00  1.09380400e+00\n",
      "    1.09645748e+00  1.09871590e+00  1.09898102e+00  1.09645748e+00\n",
      "    1.09314120e+00  1.09208083e+00]\n",
      "  [-5.08533530e-02 -6.42473251e-02 -1.05870955e-01 -1.07200012e-01\n",
      "   -1.07995301e-01 -2.07141012e-01 -2.74860680e-01 -2.91557491e-01\n",
      "   -2.78962821e-01 -2.87445933e-01 -2.65840501e-01 -2.24879608e-01\n",
      "   -1.73590124e-01 -1.33162752e-01 -1.24414526e-01 -1.66435540e-01\n",
      "   -1.68692440e-01 -1.12366609e-01 -9.73947197e-02 -5.36740683e-02\n",
      "   -4.06978987e-02 -2.69230232e-02 -3.25002819e-02 -1.72640160e-02\n",
      "   -2.55785789e-03  3.18979397e-02  6.99529424e-02  8.50601941e-02\n",
      "    7.19447434e-02  8.69056806e-02  1.13676958e-01  1.07304677e-01\n",
      "    1.09544501e-01  1.41876206e-01  1.45577371e-01  1.60415947e-01\n",
      "    1.86123535e-01  2.02940136e-01  2.29045630e-01  1.93777710e-01\n",
      "    1.07886367e-01 -8.09350237e-03 -3.43489908e-02  8.84159096e-03\n",
      "    4.10371758e-02  4.40756008e-02  1.70254577e-02 -1.09559698e-02\n",
      "   -4.87357341e-02 -1.13694645e-01]\n",
      "  [-2.87788082e-02 -1.92386620e-02 -9.69856605e-03  2.11851951e-02\n",
      "    6.22750595e-02  7.14178607e-02  8.08288231e-02  8.90333429e-02\n",
      "    8.90333429e-02  8.96993950e-02  7.00959414e-02  6.05557486e-02\n",
      "    3.07322741e-02  1.17415446e-03  2.63524987e-03 -5.04901027e-03\n",
      "   -3.20820436e-02 -4.94391844e-02 -4.71792296e-02 -4.47899587e-02\n",
      "   -5.31371422e-02 -8.37457627e-02 -8.53396580e-02 -8.67976993e-02\n",
      "   -8.93194377e-02 -1.03774138e-01 -1.18228577e-01 -1.24733917e-01\n",
      "   -1.21297851e-01 -1.14544742e-01 -1.30593091e-01 -1.38029575e-01\n",
      "   -1.65878326e-01 -1.73844770e-01 -2.01425105e-01 -2.08592936e-01\n",
      "   -2.24505678e-01 -2.48901278e-01 -2.82042027e-01 -2.83901036e-01\n",
      "   -2.94769257e-01 -2.75020510e-01 -2.64549166e-01 -2.64018714e-01\n",
      "   -2.43076012e-01 -2.12586477e-01 -1.92303196e-01 -1.80370241e-01\n",
      "   -1.58098742e-01 -1.26028821e-01]\n",
      "  [-1.61239117e-01 -1.11941434e-01 -7.37707019e-02 -5.22943623e-02\n",
      "    1.87547095e-02  8.05158094e-02  1.28098011e-01  1.63614199e-01\n",
      "    1.72892615e-01  1.83764920e-01  1.93971187e-01  1.44530490e-01\n",
      "    8.40849355e-02  3.27954479e-02  2.32519358e-02  2.45771687e-02\n",
      "   -5.34934178e-02 -1.20549455e-01 -1.07169427e-01 -9.41727608e-02\n",
      "   -1.01857275e-01 -1.11125492e-01 -1.11788236e-01 -1.12984493e-01\n",
      "   -1.05442978e-01 -1.22541770e-01 -1.45227745e-01 -1.44606039e-01\n",
      "   -1.40656844e-01 -1.50614828e-01 -1.50764465e-01 -1.62313282e-01\n",
      "   -1.93876714e-01 -2.36700162e-01 -2.79802203e-01 -3.21972340e-01\n",
      "   -3.91975939e-01 -4.70579922e-01 -5.37129581e-01 -5.51052332e-01\n",
      "   -5.13941169e-01 -4.47141707e-01 -4.59073663e-01 -4.61196989e-01\n",
      "   -4.53909338e-01 -3.96265924e-01 -3.26942921e-01 -2.74459720e-01\n",
      "   -2.01554596e-01 -1.20710045e-01]]]\n",
      "[0]\n",
      "[0]\n"
     ]
    }
   ],
   "source": [
    "print(train_X[333])\n",
    "print(val_X[123])\n",
    "print(train_Y[444])\n",
    "print(val_Y[321])"
   ]
  },
  {
   "cell_type": "markdown",
   "metadata": {},
   "source": [
    "#### Check the data dimensions"
   ]
  },
  {
   "cell_type": "code",
   "execution_count": 8,
   "metadata": {},
   "outputs": [
    {
     "ename": "NameError",
     "evalue": "name '_train_feed_X' is not defined",
     "output_type": "error",
     "traceback": [
      "\u001b[0;31m---------------------------------------------------------------------------\u001b[0m",
      "\u001b[0;31mNameError\u001b[0m                                 Traceback (most recent call last)",
      "\u001b[0;32m<ipython-input-8-50ac6cfe81d3>\u001b[0m in \u001b[0;36m<module>\u001b[0;34m\u001b[0m\n\u001b[1;32m      1\u001b[0m \u001b[0;31m# Check?\u001b[0m\u001b[0;34m\u001b[0m\u001b[0;34m\u001b[0m\u001b[0;34m\u001b[0m\u001b[0m\n\u001b[0;32m----> 2\u001b[0;31m \u001b[0mprint\u001b[0m\u001b[0;34m(\u001b[0m\u001b[0m_train_feed_X\u001b[0m\u001b[0;34m.\u001b[0m\u001b[0mshape\u001b[0m\u001b[0;34m,\u001b[0m \u001b[0m_train_ndm_X\u001b[0m\u001b[0;34m.\u001b[0m\u001b[0mshape\u001b[0m\u001b[0;34m,\u001b[0m \u001b[0m_train_rest_X\u001b[0m\u001b[0;34m.\u001b[0m\u001b[0mshape\u001b[0m\u001b[0;34m,\u001b[0m \u001b[0m_train_swim_X\u001b[0m\u001b[0;34m.\u001b[0m\u001b[0mshape\u001b[0m\u001b[0;34m)\u001b[0m\u001b[0;34m\u001b[0m\u001b[0;34m\u001b[0m\u001b[0m\n\u001b[0m\u001b[1;32m      3\u001b[0m \u001b[0mprint\u001b[0m\u001b[0;34m(\u001b[0m\u001b[0m_train_feed_Y\u001b[0m\u001b[0;34m.\u001b[0m\u001b[0mshape\u001b[0m\u001b[0;34m,\u001b[0m \u001b[0m_train_ndm_Y\u001b[0m\u001b[0;34m.\u001b[0m\u001b[0mshape\u001b[0m\u001b[0;34m,\u001b[0m \u001b[0m_train_rest_Y\u001b[0m\u001b[0;34m.\u001b[0m\u001b[0mshape\u001b[0m\u001b[0;34m,\u001b[0m \u001b[0m_train_swim_Y\u001b[0m\u001b[0;34m.\u001b[0m\u001b[0mshape\u001b[0m\u001b[0;34m)\u001b[0m\u001b[0;34m\u001b[0m\u001b[0;34m\u001b[0m\u001b[0m\n\u001b[1;32m      4\u001b[0m \u001b[0mprint\u001b[0m\u001b[0;34m(\u001b[0m\u001b[0m_train_feed_Y\u001b[0m\u001b[0;34m[\u001b[0m\u001b[0;36m5000\u001b[0m\u001b[0;34m]\u001b[0m\u001b[0;34m,\u001b[0m \u001b[0m_train_ndm_Y\u001b[0m\u001b[0;34m[\u001b[0m\u001b[0;36m5000\u001b[0m\u001b[0;34m]\u001b[0m\u001b[0;34m,\u001b[0m \u001b[0m_train_rest_Y\u001b[0m\u001b[0;34m[\u001b[0m\u001b[0;36m5000\u001b[0m\u001b[0;34m]\u001b[0m\u001b[0;34m,\u001b[0m \u001b[0m_train_swim_Y\u001b[0m\u001b[0;34m[\u001b[0m\u001b[0;36m5000\u001b[0m\u001b[0;34m]\u001b[0m\u001b[0;34m)\u001b[0m\u001b[0;34m\u001b[0m\u001b[0;34m\u001b[0m\u001b[0m\n",
      "\u001b[0;31mNameError\u001b[0m: name '_train_feed_X' is not defined"
     ]
    }
   ],
   "source": [
    "# Check?\n",
    "print(_train_feed_X.shape, _train_ndm_X.shape, _train_rest_X.shape, _train_swim_X.shape)\n",
    "print(_train_feed_Y.shape, _train_ndm_Y.shape, _train_rest_Y.shape, _train_swim_Y.shape)\n",
    "print(_train_feed_Y[5000], _train_ndm_Y[5000], _train_rest_Y[5000], _train_swim_Y[5000])"
   ]
  },
  {
   "cell_type": "code",
   "execution_count": 9,
   "metadata": {},
   "outputs": [
    {
     "data": {
      "text/plain": [
       "((12000, 1, 6, 50), (12000, 1))"
      ]
     },
     "execution_count": 9,
     "metadata": {},
     "output_type": "execute_result"
    }
   ],
   "source": [
    "val_X.shape, val_Y.shape"
   ]
  },
  {
   "cell_type": "code",
   "execution_count": 10,
   "metadata": {},
   "outputs": [
    {
     "data": {
      "text/plain": [
       "((6963, 1, 6, 50), (6963, 1))"
      ]
     },
     "execution_count": 10,
     "metadata": {},
     "output_type": "execute_result"
    }
   ],
   "source": [
    "test_X.shape, test_Y.shape"
   ]
  },
  {
   "cell_type": "code",
   "execution_count": 11,
   "metadata": {},
   "outputs": [
    {
     "data": {
      "text/plain": [
       "((40000, 1, 6, 50), (12000, 1, 6, 50), (6963, 1, 6, 50))"
      ]
     },
     "execution_count": 11,
     "metadata": {},
     "output_type": "execute_result"
    }
   ],
   "source": [
    "train_X.shape, val_X.shape, test_X.shape"
   ]
  },
  {
   "cell_type": "markdown",
   "metadata": {},
   "source": [
    "# Network"
   ]
  },
  {
   "cell_type": "code",
   "execution_count": 12,
   "metadata": {},
   "outputs": [],
   "source": [
    "class SharkBehaviorDataset(Dataset):\n",
    "    def __init__(self, data, labels=None, train=True):\n",
    "        self.data = data\n",
    "        self.train = train\n",
    "        if self.train:\n",
    "            self.labels = labels\n",
    "    \n",
    "    def __len__(self):\n",
    "        return len(self.data)\n",
    "    \n",
    "    def __getitem__(self, idx):\n",
    "        sample = self.data[idx]\n",
    "        label = None\n",
    "        if self.train:\n",
    "            sample_label = self.labels[idx]\n",
    "            return (sample, sample_label)\n",
    "        return sample"
   ]
  },
  {
   "cell_type": "code",
   "execution_count": 13,
   "metadata": {},
   "outputs": [
    {
     "data": {
      "text/plain": [
       "((40000, 1, 6, 50), (6963, 1, 6, 50))"
      ]
     },
     "execution_count": 13,
     "metadata": {},
     "output_type": "execute_result"
    }
   ],
   "source": [
    "train_X.shape, test_X.shape"
   ]
  },
  {
   "cell_type": "code",
   "execution_count": 14,
   "metadata": {},
   "outputs": [],
   "source": [
    "train_dataset = SharkBehaviorDataset(train_X, labels=train_Y, train=True)\n",
    "val_dataset = SharkBehaviorDataset(val_X, labels=val_Y, train=True)\n",
    "test_dataset = SharkBehaviorDataset(test_X, labels=test_Y, train=True)\n",
    "\n",
    "batch_size = 256\n",
    "\n",
    "train_loader = torch.utils.data.DataLoader(dataset=train_dataset,\n",
    "                                          batch_size=batch_size,\n",
    "                                          shuffle=True)\n",
    "val_loader = torch.utils.data.DataLoader(dataset=val_dataset,\n",
    "                                        batch_size=batch_size,\n",
    "                                        shuffle=True)\n",
    "test_loader = torch.utils.data.DataLoader(dataset=test_dataset,\n",
    "                                         batch_size=batch_size,\n",
    "                                         shuffle=False)\n"
   ]
  },
  {
   "cell_type": "code",
   "execution_count": 15,
   "metadata": {},
   "outputs": [],
   "source": [
    "%reload_ext autoreload\n",
    "from networks.cnn import SharkVGG1, SharkVGG2, Sharkception\n",
    "from networks.rnn import SharkLSTM, SharkGRU\n",
    "\n",
    "from networks.cnn2d import Shark2dVGG1, Shark2dVGG2, Sharkception2d \n",
    "\n",
    "from networks.rcnn import SharkRCNN2d"
   ]
  },
  {
   "cell_type": "markdown",
   "metadata": {},
   "source": [
    "## SET PARAMS"
   ]
  },
  {
   "cell_type": "code",
   "execution_count": 16,
   "metadata": {},
   "outputs": [],
   "source": [
    "if modelType is 'cnn':\n",
    "    if expDim is '1d':\n",
    "        if archType is 'VGG1':\n",
    "            model = SharkVGG1(1)\n",
    "        elif archType is 'VGG2':\n",
    "            model = SharkVGG2(1)\n",
    "        elif archType is 'Inception':\n",
    "            model = Sharkception(1)\n",
    "    \n",
    "    elif expDim is '2d':\n",
    "        if archType is 'VGG1':\n",
    "            model = Shark2dVGG1(1)\n",
    "        elif archType is 'VGG2':\n",
    "            model = Shark2dVGG2(1)\n",
    "        elif archType is 'Inception':\n",
    "            model = Sharkception2d(1)\n",
    "            \n",
    "    model.cuda()\n",
    "    criterion = nn.CrossEntropyLoss() \n",
    "    optimizer = torch.optim.Adam(model.parameters(), lr=0.0001, weight_decay=.0)#, momentum=.9, nesterov=True)\n",
    "    # optimizer = torch.optim.SGD(model.parameters(), lr=0.0001, momentum=.99, nesterov=True)\n",
    "    sched = torch.optim.lr_scheduler.MultiStepLR(optimizer, [10000], gamma=0.1)\n",
    "    \n",
    "elif modelType is 'rnn':\n",
    "    hidden_size = 128\n",
    "    dat_size = 50\n",
    "    out_size = 4\n",
    "    \n",
    "    num_layers = 5\n",
    "    \n",
    "    if archType is 'LSTM':\n",
    "        model = SharkLSTM(dat_size, \n",
    "                          hidden_size, \n",
    "                          out_size, \n",
    "                          num_layers=num_layers)\n",
    "        \n",
    "    elif archType is 'GRU':\n",
    "        model = SharkGRU(dat_size, \n",
    "                         hidden_size, \n",
    "                         out_size, \n",
    "                         num_layers=num_layers)\n",
    "        \n",
    "    model.cuda()\n",
    "    criterion = nn.CrossEntropyLoss() \n",
    "    optimizer = torch.optim.SGD(model.parameters(), lr=0.001, momentum=.99, nesterov=True)\n",
    "    # optimizer = torch.optim.Adam(model.parameters(), lr=0.001)\n",
    "    sched = torch.optim.lr_scheduler.MultiStepLR(optimizer, [10000,20000], gamma=0.1)\n",
    "    \n",
    "if modelType is 'rcnn':\n",
    "    if expDim is '1d':\n",
    "        model = SharkRCNN(1, 4)\n",
    "    \n",
    "    elif expDim is '2d':\n",
    "        model = SharkRCNN2d(1, 4)\n",
    "            \n",
    "    model.cuda()\n",
    "    criterion = nn.CrossEntropyLoss() \n",
    "    optimizer = torch.optim.Adam(model.parameters(), lr=0.0005, weight_decay=.0)\n",
    "    # optimizer = torch.optim.SGD(model.parameters(), lr=0.0001, momentum=.99, nesterov=True)\n",
    "    sched = torch.optim.lr_scheduler.MultiStepLR(optimizer, [10000], gamma=0.1)"
   ]
  },
  {
   "cell_type": "code",
   "execution_count": 17,
   "metadata": {
    "scrolled": true
   },
   "outputs": [
    {
     "data": {
      "text/plain": [
       "SharkRCNN2d(\n",
       "  (rcl1): RecurrentConvolutionalLayer(\n",
       "    (conv1): Sequential(\n",
       "      (0): Conv2d(1, 32, kernel_size=(3, 3), stride=(1, 1), padding=(1, 1))\n",
       "      (1): ReLU()\n",
       "    )\n",
       "    (rcl1): Sequential(\n",
       "      (0): Conv2d(1, 32, kernel_size=(3, 3), stride=(1, 1), padding=(1, 1))\n",
       "      (1): ReLU()\n",
       "    )\n",
       "    (rcl2): Sequential(\n",
       "      (0): Conv2d(32, 32, kernel_size=(3, 3), stride=(1, 1), padding=(1, 1))\n",
       "      (1): ReLU()\n",
       "    )\n",
       "    (lrn): LocalResponseNorm(2, alpha=0.0001, beta=0.75, k=1.0)\n",
       "  )\n",
       "  (dropout1): Dropout(p=0.5, inplace=False)\n",
       "  (rcl2): RecurrentConvolutionalLayer(\n",
       "    (conv1): Sequential(\n",
       "      (0): Conv2d(32, 64, kernel_size=(3, 3), stride=(1, 1), padding=(1, 1))\n",
       "      (1): ReLU()\n",
       "    )\n",
       "    (rcl1): Sequential(\n",
       "      (0): Conv2d(32, 64, kernel_size=(3, 3), stride=(1, 1), padding=(1, 1))\n",
       "      (1): ReLU()\n",
       "    )\n",
       "    (rcl2): Sequential(\n",
       "      (0): Conv2d(64, 64, kernel_size=(3, 3), stride=(1, 1), padding=(1, 1))\n",
       "      (1): ReLU()\n",
       "    )\n",
       "    (lrn): LocalResponseNorm(2, alpha=0.0001, beta=0.75, k=1.0)\n",
       "  )\n",
       "  (pool1): MaxPool2d(kernel_size=2, stride=2, padding=0, dilation=1, ceil_mode=False)\n",
       "  (dropout2): Dropout(p=0.5, inplace=False)\n",
       "  (rcl3): RecurrentConvolutionalLayer(\n",
       "    (conv1): Sequential(\n",
       "      (0): Conv2d(64, 128, kernel_size=(3, 3), stride=(1, 1), padding=(1, 1))\n",
       "      (1): ReLU()\n",
       "    )\n",
       "    (rcl1): Sequential(\n",
       "      (0): Conv2d(64, 128, kernel_size=(3, 3), stride=(1, 1), padding=(1, 1))\n",
       "      (1): ReLU()\n",
       "    )\n",
       "    (rcl2): Sequential(\n",
       "      (0): Conv2d(128, 128, kernel_size=(3, 3), stride=(1, 1), padding=(1, 1))\n",
       "      (1): ReLU()\n",
       "    )\n",
       "    (lrn): LocalResponseNorm(2, alpha=0.0001, beta=0.75, k=1.0)\n",
       "  )\n",
       "  (dropout3): Dropout(p=0.5, inplace=False)\n",
       "  (rcl4): RecurrentConvolutionalLayer(\n",
       "    (conv1): Sequential(\n",
       "      (0): Conv2d(128, 128, kernel_size=(3, 3), stride=(1, 1), padding=(1, 1))\n",
       "      (1): ReLU()\n",
       "    )\n",
       "    (rcl1): Sequential(\n",
       "      (0): Conv2d(128, 128, kernel_size=(3, 3), stride=(1, 1), padding=(1, 1))\n",
       "      (1): ReLU()\n",
       "    )\n",
       "    (rcl2): Sequential(\n",
       "      (0): Conv2d(128, 128, kernel_size=(3, 3), stride=(1, 1), padding=(1, 1))\n",
       "      (1): ReLU()\n",
       "    )\n",
       "    (lrn): LocalResponseNorm(2, alpha=0.0001, beta=0.75, k=1.0)\n",
       "  )\n",
       "  (pool2): MaxPool2d(kernel_size=2, stride=2, padding=0, dilation=1, ceil_mode=False)\n",
       "  (fc): Sequential(\n",
       "    (0): Flatten()\n",
       "    (1): Dropout(p=0.25, inplace=False)\n",
       "    (2): ReLU()\n",
       "    (3): Linear(in_features=1536, out_features=1000, bias=True)\n",
       "    (4): ReLU()\n",
       "    (5): BatchNorm1d(1000, eps=1e-05, momentum=0.1, affine=True, track_running_stats=True)\n",
       "    (6): Linear(in_features=1000, out_features=100, bias=True)\n",
       "    (7): ReLU()\n",
       "    (8): BatchNorm1d(100, eps=1e-05, momentum=0.1, affine=True, track_running_stats=True)\n",
       "    (9): Dropout(p=0.25, inplace=False)\n",
       "    (10): Linear(in_features=100, out_features=4, bias=True)\n",
       "  )\n",
       ")"
      ]
     },
     "execution_count": 17,
     "metadata": {},
     "output_type": "execute_result"
    }
   ],
   "source": [
    "model"
   ]
  },
  {
   "cell_type": "code",
   "execution_count": 18,
   "metadata": {},
   "outputs": [],
   "source": [
    "def accuracy(out, labels):\n",
    "    _, pred = torch.max(out,1)\n",
    "    correct = (pred == labels).sum().item()\n",
    "    acc = 100*correct/len(labels)\n",
    "    return acc"
   ]
  },
  {
   "cell_type": "markdown",
   "metadata": {},
   "source": [
    "# Train"
   ]
  },
  {
   "cell_type": "code",
   "execution_count": null,
   "metadata": {
    "scrolled": true
   },
   "outputs": [
    {
     "name": "stdout",
     "output_type": "stream",
     "text": [
      "EPOCH:  1\n",
      "Training loss:....... 0.9108531501642458\n",
      "Validation loss:..... 1.8269794393093028\n",
      "Training accuracy:... 60.2109872611465\n",
      "Validation accuracy.. 41.989219224924014\n",
      "NEW BEST LOSS_: 1.8269794393093028 ........old best:99999\n",
      "\n",
      "NEW BEST ACC_: 41.989219224924014 ........old best:-99999\n",
      "DIV 200: Val_acc: 41.989219224924014 ..Val_loss:1.8269794393093028\n",
      "EPOCH:  2\n",
      "Training loss:....... 0.7633710849057337\n",
      "Validation loss:..... 1.6326521787237613\n",
      "Training accuracy:... 66.20720541401273\n",
      "Validation accuracy.. 46.74320858662614\n",
      "NEW BEST LOSS_: 1.6326521787237613 ........old best:1.8269794393093028\n",
      "\n",
      "NEW BEST ACC_: 46.74320858662614 ........old best:41.989219224924014\n",
      "EPOCH:  3\n",
      "Training loss:....... 0.6560264920732778\n",
      "Validation loss:..... 1.0702460370165237\n",
      "Training accuracy:... 69.98656449044586\n",
      "Validation accuracy.. 58.480955547112465\n",
      "NEW BEST LOSS_: 1.0702460370165237 ........old best:1.6326521787237613\n",
      "\n",
      "NEW BEST ACC_: 58.480955547112465 ........old best:46.74320858662614\n",
      "EPOCH:  4\n",
      "Training loss:....... 0.5674310533484076\n",
      "Validation loss:..... 1.0006372002845114\n",
      "Training accuracy:... 73.96994426751593\n",
      "Validation accuracy.. 61.33999810030395\n",
      "NEW BEST LOSS_: 1.0006372002845114 ........old best:1.0702460370165237\n",
      "\n",
      "NEW BEST ACC_: 61.33999810030395 ........old best:58.480955547112465\n",
      "EPOCH:  5\n",
      "Training loss:....... 0.4941752310011797\n",
      "Validation loss:..... 1.1167695763263297\n",
      "Training accuracy:... 77.14719347133757\n",
      "Validation accuracy.. 63.45340995440729\n",
      "NEW BEST ACC_: 63.45340995440729 ........old best:61.33999810030395\n",
      "EPOCH:  6\n",
      "Training loss:....... 0.4471675823828217\n",
      "Validation loss:..... 1.077865759108929\n",
      "Training accuracy:... 79.50089570063695\n",
      "Validation accuracy.. 57.18797492401216\n",
      "EPOCH:  7\n",
      "Training loss:....... 0.4091987357397748\n",
      "Validation loss:..... 1.1598708553517119\n",
      "Training accuracy:... 81.60330414012739\n",
      "Validation accuracy.. 62.160429331306986\n",
      "EPOCH:  8\n",
      "Training loss:....... 0.3880854638139154\n",
      "Validation loss:..... 1.0853089740935793\n",
      "Training accuracy:... 82.72292993630573\n",
      "Validation accuracy.. 62.178238981762924\n",
      "EPOCH:  9\n",
      "Training loss:....... 0.3594908613687868\n",
      "Validation loss:..... 1.2044825160757024\n",
      "Training accuracy:... 84.39739251592357\n",
      "Validation accuracy.. 58.37053571428571\n",
      "EPOCH:  10\n",
      "Training loss:....... 0.342292243508017\n",
      "Validation loss:..... 1.1506092167915183\n",
      "Training accuracy:... 85.17615445859873\n",
      "Validation accuracy.. 59.88316869300912\n",
      "EPOCH:  11\n"
     ]
    }
   ],
   "source": [
    "mean_train_losses = []\n",
    "mean_val_losses = []\n",
    "\n",
    "mean_train_acc = []\n",
    "mean_val_acc = []\n",
    "minLoss = 99999\n",
    "maxValacc = -99999\n",
    "for epoch in range(500):\n",
    "    print('EPOCH: ',epoch+1)\n",
    "    train_acc = []\n",
    "    val_acc = []\n",
    "    \n",
    "    running_loss = 0.0\n",
    "    \n",
    "    model.train()\n",
    "    count = 0\n",
    "    for images, labels in train_loader:\n",
    "        labels = labels.squeeze()\n",
    "        images = Variable(images.cuda())\n",
    "        labels = Variable(labels.cuda())\n",
    "        \n",
    "        outputs = model(images)\n",
    "        \n",
    "        optimizer.zero_grad()\n",
    "        loss = criterion(outputs, labels)\n",
    "        \n",
    "        train_acc.append(accuracy(outputs, labels))\n",
    "        \n",
    "        loss.backward()\n",
    "        optimizer.step()        \n",
    "        \n",
    "        running_loss += loss.item()\n",
    "        count +=1\n",
    "        \n",
    "    sched.step()\n",
    "    print('Training loss:.......', running_loss/count)\n",
    "    mean_train_losses.append(running_loss/count)\n",
    "        \n",
    "    model.eval()\n",
    "    count = 0\n",
    "    val_running_loss = 0.0\n",
    "    for images, labels in val_loader:\n",
    "        labels = labels.squeeze()\n",
    "        images = Variable(images.cuda())\n",
    "        labels = Variable(labels.cuda())\n",
    "        \n",
    "        outputs = model(images)\n",
    "        accuracy(outputs, labels)\n",
    "        \n",
    "        \n",
    "        loss = criterion(outputs, labels)\n",
    "\n",
    "        val_acc.append(accuracy(outputs, labels))\n",
    "        val_running_loss += loss.item()\n",
    "        count +=1\n",
    "\n",
    "    mean_val_loss = val_running_loss/count\n",
    "    print('Validation loss:.....', mean_val_loss)\n",
    "    \n",
    "    print('Training accuracy:...', np.mean(train_acc))\n",
    "    print('Validation accuracy..', np.mean(val_acc))\n",
    "    \n",
    "    mean_val_losses.append(mean_val_loss)\n",
    "    \n",
    "    mean_train_acc.append(np.mean(train_acc))\n",
    "    \n",
    "    val_acc_ = np.mean(val_acc)\n",
    "    mean_val_acc.append(val_acc_)\n",
    "    \n",
    "    if mean_val_loss < minLoss:\n",
    "        torch.save(model.state_dict(), './'+folder_+'/_loss.pth' )\n",
    "        print(f'NEW BEST LOSS_: {mean_val_loss} ........old best:{minLoss}')\n",
    "        minLoss = mean_val_loss\n",
    "        print('')\n",
    "        \n",
    "    if val_acc_ > maxValacc:\n",
    "        torch.save(model.state_dict(), './'+folder_+'/_acc.pth' )\n",
    "        print(f'NEW BEST ACC_: {val_acc_} ........old best:{maxValacc}')\n",
    "        maxValacc = val_acc_\n",
    "        \n",
    "    if epoch%500 == 0 :\n",
    "        torch.save(model.state_dict(), './'+folder_+'/save_'+str(epoch)+'.pth' )\n",
    "        print(f'DIV 200: Val_acc: {val_acc_} ..Val_loss:{mean_val_loss}')\n",
    "        \n",
    "    torch.save(model.state_dict(), './'+folder_+'/_last.pth' )"
   ]
  },
  {
   "cell_type": "code",
   "execution_count": 28,
   "metadata": {},
   "outputs": [
    {
     "data": {
      "text/plain": [
       "<matplotlib.legend.Legend at 0x7f3cec9258d0>"
      ]
     },
     "execution_count": 28,
     "metadata": {},
     "output_type": "execute_result"
    },
    {
     "data": {
      "image/png": "[encoded data removed]",
      "text/plain": [
       "<Figure size 432x288 with 1 Axes>"
      ]
     },
     "metadata": {
      "needs_background": "light"
     },
     "output_type": "display_data"
    }
   ],
   "source": [
    "train_acc_series = pd.Series(mean_train_acc)\n",
    "val_acc_series = pd.Series(mean_val_acc)\n",
    "train_acc_series.plot(label=\"train\")\n",
    "val_acc_series.plot(label=\"validation\")\n",
    "plt.legend()"
   ]
  },
  {
   "cell_type": "code",
   "execution_count": 29,
   "metadata": {
    "scrolled": true
   },
   "outputs": [
    {
     "data": {
      "text/plain": [
       "<matplotlib.legend.Legend at 0x7f3ce4173550>"
      ]
     },
     "execution_count": 29,
     "metadata": {},
     "output_type": "execute_result"
    },
    {
     "data": {
      "image/png": "[encoded data removed]",
      "text/plain": [
       "<Figure size 432x288 with 1 Axes>"
      ]
     },
     "metadata": {
      "needs_background": "light"
     },
     "output_type": "display_data"
    }
   ],
   "source": [
    "train_acc_series = pd.Series(mean_train_losses)\n",
    "val_acc_series = pd.Series(mean_val_losses)\n",
    "train_acc_series.plot(label=\"train\")\n",
    "val_acc_series.plot(label=\"validation\")\n",
    "plt.legend()"
   ]
  },
  {
   "cell_type": "markdown",
   "metadata": {
    "collapsed": true
   },
   "source": [
    "# Test"
   ]
  },
  {
   "cell_type": "markdown",
   "metadata": {},
   "source": [
    "### Load model and weights"
   ]
  },
  {
   "cell_type": "code",
   "execution_count": 31,
   "metadata": {
    "scrolled": true
   },
   "outputs": [
    {
     "data": {
      "text/plain": [
       "SharkRCNN2d(\n",
       "  (rcl1): RecurrentConvolutionalLayer(\n",
       "    (conv1): Sequential(\n",
       "      (0): Conv2d(1, 32, kernel_size=(3, 3), stride=(1, 1), padding=(1, 1))\n",
       "      (1): ReLU()\n",
       "    )\n",
       "    (rcl1): Sequential(\n",
       "      (0): Conv2d(1, 32, kernel_size=(3, 3), stride=(1, 1), padding=(1, 1))\n",
       "      (1): ReLU()\n",
       "    )\n",
       "    (rcl2): Sequential(\n",
       "      (0): Conv2d(32, 32, kernel_size=(3, 3), stride=(1, 1), padding=(1, 1))\n",
       "      (1): ReLU()\n",
       "    )\n",
       "    (lrn): LocalResponseNorm(2, alpha=0.0001, beta=0.75, k=1.0)\n",
       "  )\n",
       "  (dropout1): Dropout(p=0.5, inplace=False)\n",
       "  (rcl2): RecurrentConvolutionalLayer(\n",
       "    (conv1): Sequential(\n",
       "      (0): Conv2d(32, 64, kernel_size=(3, 3), stride=(1, 1), padding=(1, 1))\n",
       "      (1): ReLU()\n",
       "    )\n",
       "    (rcl1): Sequential(\n",
       "      (0): Conv2d(32, 64, kernel_size=(3, 3), stride=(1, 1), padding=(1, 1))\n",
       "      (1): ReLU()\n",
       "    )\n",
       "    (rcl2): Sequential(\n",
       "      (0): Conv2d(64, 64, kernel_size=(3, 3), stride=(1, 1), padding=(1, 1))\n",
       "      (1): ReLU()\n",
       "    )\n",
       "    (lrn): LocalResponseNorm(2, alpha=0.0001, beta=0.75, k=1.0)\n",
       "  )\n",
       "  (pool1): MaxPool2d(kernel_size=2, stride=2, padding=0, dilation=1, ceil_mode=False)\n",
       "  (dropout2): Dropout(p=0.5, inplace=False)\n",
       "  (rcl3): RecurrentConvolutionalLayer(\n",
       "    (conv1): Sequential(\n",
       "      (0): Conv2d(64, 128, kernel_size=(3, 3), stride=(1, 1), padding=(1, 1))\n",
       "      (1): ReLU()\n",
       "    )\n",
       "    (rcl1): Sequential(\n",
       "      (0): Conv2d(64, 128, kernel_size=(3, 3), stride=(1, 1), padding=(1, 1))\n",
       "      (1): ReLU()\n",
       "    )\n",
       "    (rcl2): Sequential(\n",
       "      (0): Conv2d(128, 128, kernel_size=(3, 3), stride=(1, 1), padding=(1, 1))\n",
       "      (1): ReLU()\n",
       "    )\n",
       "    (lrn): LocalResponseNorm(2, alpha=0.0001, beta=0.75, k=1.0)\n",
       "  )\n",
       "  (dropout3): Dropout(p=0.5, inplace=False)\n",
       "  (rcl4): RecurrentConvolutionalLayer(\n",
       "    (conv1): Sequential(\n",
       "      (0): Conv2d(128, 128, kernel_size=(3, 3), stride=(1, 1), padding=(1, 1))\n",
       "      (1): ReLU()\n",
       "    )\n",
       "    (rcl1): Sequential(\n",
       "      (0): Conv2d(128, 128, kernel_size=(3, 3), stride=(1, 1), padding=(1, 1))\n",
       "      (1): ReLU()\n",
       "    )\n",
       "    (rcl2): Sequential(\n",
       "      (0): Conv2d(128, 128, kernel_size=(3, 3), stride=(1, 1), padding=(1, 1))\n",
       "      (1): ReLU()\n",
       "    )\n",
       "    (lrn): LocalResponseNorm(2, alpha=0.0001, beta=0.75, k=1.0)\n",
       "  )\n",
       "  (pool2): MaxPool2d(kernel_size=2, stride=2, padding=0, dilation=1, ceil_mode=False)\n",
       "  (fc): Sequential(\n",
       "    (0): Flatten()\n",
       "    (1): Dropout(p=0.25, inplace=False)\n",
       "    (2): ReLU()\n",
       "    (3): Linear(in_features=1536, out_features=1000, bias=True)\n",
       "    (4): ReLU()\n",
       "    (5): BatchNorm1d(1000, eps=1e-05, momentum=0.1, affine=True, track_running_stats=True)\n",
       "    (6): Linear(in_features=1000, out_features=100, bias=True)\n",
       "    (7): ReLU()\n",
       "    (8): BatchNorm1d(100, eps=1e-05, momentum=0.1, affine=True, track_running_stats=True)\n",
       "    (9): Dropout(p=0.25, inplace=False)\n",
       "    (10): Linear(in_features=100, out_features=4, bias=True)\n",
       "  )\n",
       ")"
      ]
     },
     "execution_count": 31,
     "metadata": {},
     "output_type": "execute_result"
    }
   ],
   "source": [
    "if modelType is 'cnn':\n",
    "    if expDim is '1d':\n",
    "        if archType is 'VGG1':\n",
    "            model = SharkVGG1(1)\n",
    "        elif archType is 'VGG2':\n",
    "            model = SharkVGG2(1)\n",
    "        elif archType is 'Inception':\n",
    "            model = Sharkception(1)\n",
    "    \n",
    "    elif expDim is '2d':\n",
    "        if archType is 'VGG1':\n",
    "            model = Shark2dVGG1(1)\n",
    "        elif archType is 'VGG2':\n",
    "            model = Shark2dVGG2(1)\n",
    "        elif archType is 'Inception':\n",
    "            model = Sharkception2d(1)\n",
    "            \n",
    "elif modelType is 'rnn':\n",
    "    hidden_size = 128\n",
    "    dat_size = 50\n",
    "    out_size = 4\n",
    "    \n",
    "    if archType is 'LSTM':\n",
    "        model = SharkLSTM(dat_size, hidden_size, out_size)\n",
    "    elif archType is 'GRU':\n",
    "        model = SharkGRU(dat_size, hidden_size, out_size)\n",
    "        \n",
    "elif modelType is 'rcnn':\n",
    "    \n",
    "    if expDim is '1d':\n",
    "        model = SharkRCNN(1, 4)\n",
    "    \n",
    "    elif expDim is '2d':\n",
    "        model = SharkRCNN2d(1, 4)\n",
    "\n",
    "model.cuda()\n",
    "\n",
    "state_dict = torch.load('./'+ folder_ + '/_acc.pth')\n",
    "# state_dict = torch.load('exp/'+ folder_ +'/_loss.pth')\n",
    "# state_dict = torch.load('exp/'+ folder_ +'/_last.pth')\n",
    "# state_dict = torch.load('exp/'+ folder_ +'/save_1000.pth') #0,200...\n",
    "model.load_state_dict(state_dict)\n",
    "model.eval()"
   ]
  },
  {
   "cell_type": "code",
   "execution_count": 32,
   "metadata": {},
   "outputs": [],
   "source": [
    "from sklearn.metrics import confusion_matrix, classification_report\n",
    "from sklearn import metrics"
   ]
  },
  {
   "cell_type": "code",
   "execution_count": 33,
   "metadata": {},
   "outputs": [
    {
     "name": "stderr",
     "output_type": "stream",
     "text": [
      "/opt/conda/envs/shark-rnn/lib/python3.6/site-packages/ipykernel_launcher.py:19: UserWarning: Implicit dimension choice for softmax has been deprecated. Change the call to include dim=X as an argument.\n"
     ]
    }
   ],
   "source": [
    "preds = []\n",
    "ys = []\n",
    "probs = np.empty((test_X.shape[0],4))\n",
    "correct = 0\n",
    "\n",
    "with torch.no_grad():\n",
    "    model.eval\n",
    "    count = 0\n",
    "#     preds = []\n",
    "#     ys = []\n",
    "    val_running_loss = 0.0\n",
    "    for images, labels in test_loader:\n",
    "#         tots +=1\n",
    "        labels = labels.squeeze()\n",
    "        images = Variable(images.cuda())\n",
    "        labels = Variable(labels.cuda())\n",
    "        \n",
    "        outputs = model(images)\n",
    "        prob = nn.Softmax()(outputs).cpu().numpy()\n",
    "        \n",
    "        _, pred = torch.max(outputs,1)\n",
    "        ys = np.concatenate([ys, labels.cpu().numpy()])\n",
    "        preds = np.concatenate([preds, pred.cpu().numpy()])\n",
    "        \n",
    "        #probs.append(prob.tolist())\n",
    "        #print(prob.shape)\n",
    "        probs = np.vstack([probs, prob])\n",
    "   "
   ]
  },
  {
   "cell_type": "code",
   "execution_count": 34,
   "metadata": {},
   "outputs": [
    {
     "name": "stdout",
     "output_type": "stream",
     "text": [
      "Accuracy:  0.6208530805687204\n"
     ]
    }
   ],
   "source": [
    "# Accuracy --8000\n",
    "print('Accuracy: ', (ys == preds).sum() / ys.shape[0])"
   ]
  },
  {
   "cell_type": "code",
   "execution_count": 35,
   "metadata": {
    "scrolled": true
   },
   "outputs": [
    {
     "name": "stdout",
     "output_type": "stream",
     "text": [
      "[[  22    1    5   26]\n",
      " [  48 2537   97 2217]\n",
      " [   5   16 1442  103]\n",
      " [  23   61   38  322]]\n"
     ]
    },
    {
     "name": "stderr",
     "output_type": "stream",
     "text": [
      "/opt/conda/envs/shark-rnn/lib/python3.6/site-packages/sklearn/utils/validation.py:71: FutureWarning: Pass labels=[0, 1, 2, 3] as keyword args. From version 0.25 passing these as positional arguments will result in an error\n",
      "  FutureWarning)\n"
     ]
    }
   ],
   "source": [
    "cm = confusion_matrix(ys, preds, [0,1,2,3])\n",
    "print(cm)"
   ]
  },
  {
   "cell_type": "code",
   "execution_count": 36,
   "metadata": {
    "scrolled": true
   },
   "outputs": [
    {
     "name": "stdout",
     "output_type": "stream",
     "text": [
      "              precision    recall  f1-score   support\n",
      "\n",
      "         0.0     0.2245    0.4074    0.2895        54\n",
      "         1.0     0.9702    0.5179    0.6753      4899\n",
      "         2.0     0.9115    0.9208    0.9161      1566\n",
      "         3.0     0.1207    0.7252    0.2069       444\n",
      "\n",
      "    accuracy                         0.6209      6963\n",
      "   macro avg     0.5567    0.6428    0.5220      6963\n",
      "weighted avg     0.8970    0.6209    0.6966      6963\n",
      "\n"
     ]
    }
   ],
   "source": [
    "print(classification_report(ys, preds, digits=4))"
   ]
  },
  {
   "cell_type": "code",
   "execution_count": 37,
   "metadata": {},
   "outputs": [
    {
     "data": {
      "text/plain": [
       "(0.9217876069089199, 73.14898366261399)"
      ]
     },
     "execution_count": 37,
     "metadata": {},
     "output_type": "execute_result"
    }
   ],
   "source": [
    "minLoss, maxValacc"
   ]
  },
  {
   "cell_type": "code",
   "execution_count": 39,
   "metadata": {},
   "outputs": [
    {
     "name": "stdout",
     "output_type": "stream",
     "text": [
      "6963\n",
      "(6963, 4)\n",
      "0.8423171676197737\n"
     ]
    }
   ],
   "source": [
    "#print(probs)\n",
    "probs1 = probs[test_X.shape[0]:]\n",
    "\n",
    "print(test_X.shape[0])\n",
    "print(probs1.shape)\n",
    "\n",
    "print(metrics.roc_auc_score(ys, probs1, multi_class='ovo', labels=[0,1,2,3]))"
   ]
  },
  {
   "cell_type": "code",
   "execution_count": 40,
   "metadata": {},
   "outputs": [
    {
     "name": "stderr",
     "output_type": "stream",
     "text": [
      "/opt/conda/envs/shark-rnn/lib/python3.6/site-packages/sklearn/utils/validation.py:71: FutureWarning: Pass labels=[0, 1, 2, 3] as keyword args. From version 0.25 passing these as positional arguments will result in an error\n",
      "  FutureWarning)\n"
     ]
    }
   ],
   "source": [
    "with open(os.path.join(results_folder, results_file), 'w+') as f:\n",
    "    f.write(\"Test accuracy\\n\")\n",
    "    f.write(\"----------------------------------\\n\")\n",
    "    f.write(str((ys == preds).sum() / ys.shape[0]))\n",
    "    f.write('\\n\\n')\n",
    "    f.write(\"Confusion matrix\\n\")\n",
    "    f.write(\"----------------------------------\\n\")\n",
    "    f.write(str(confusion_matrix(ys, preds, [0,1,2,3])))\n",
    "    f.write('\\n\\n')\n",
    "    f.write(\"Classification report\\n\")\n",
    "    f.write(\"----------------------------------\\n\")\n",
    "    f.write(str(classification_report(ys, preds, digits=4)))\n",
    "    f.write('\\n\\n')\n",
    "    f.write(\"AUC ROC\\n\")\n",
    "    f.write(\"----------------------------------\\n\")\n",
    "    f.write(str(metrics.roc_auc_score(ys, probs1, multi_class='ovo', labels=[0,1,2,3])))"
   ]
  },
  {
   "cell_type": "code",
   "execution_count": null,
   "metadata": {},
   "outputs": [],
   "source": []
  }
 ],
 "metadata": {
  "kernel_info": {
   "name": "python3"
  },
  "kernelspec": {
   "display_name": "Python 3",
   "language": "python",
   "name": "python3"
  },
  "language_info": {
   "codemirror_mode": {
    "name": "ipython",
    "version": 3
   },
   "file_extension": ".py",
   "mimetype": "text/x-python",
   "name": "python",
   "nbconvert_exporter": "python",
   "pygments_lexer": "ipython3",
   "version": "3.6.9"
  },
  "nteract": {
   "version": "0.15.0"
  }
 },
 "nbformat": 4,
 "nbformat_minor": 2
}
