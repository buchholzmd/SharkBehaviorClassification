{
 "cells": [
  {
   "cell_type": "code",
   "execution_count": 1,
   "metadata": {},
   "outputs": [],
   "source": [
    "%config IPCompleter.greedy=True\n",
    "\n",
    "%matplotlib inline\n",
    "%load_ext autoreload\n",
    "%autoreload 2\n",
    "\n",
    "import os\n",
    "import argparse\n",
    "import numpy as np\n",
    "import pandas as pd\n",
    "import matplotlib.pyplot as plt\n",
    "from sklearn.model_selection import train_test_split\n",
    "\n",
    "import seaborn as sns\n",
    "\n",
    "import h5py\n",
    "#import pywt"
   ]
  },
  {
   "cell_type": "code",
   "execution_count": 2,
   "metadata": {},
   "outputs": [
    {
     "name": "stdout",
     "output_type": "stream",
     "text": [
      "./models/rnn/1d/LSTM\n",
      "./results/orig\n",
      "LSTM_1d_orig.txt\n"
     ]
    }
   ],
   "source": [
    "modelType = 'rnn'\n",
    "# modelType = 'cnn'\n",
    "# modelType = 'rcnn'\n",
    "\n",
    "expDim = '1d'\n",
    "# expDim = '2d'\n",
    "\n",
    "archType = 'LSTM'\n",
    "# archType = 'GRU'\n",
    "# archType = 'VGG1'\n",
    "# archType = 'VGG2'\n",
    "# archType = 'Inception'\n",
    "# archType = 'RCNN'\n",
    "\n",
    "testSplit = 'orig'\n",
    "# testSplit = '7000'\n",
    "# testSplit = '12000'\n",
    "\n",
    "wavelet = False\n",
    "\n",
    "folder_ = os.path.join('./models', modelType, expDim, archType)\n",
    "\n",
    "results_folder = os.path.join('./results', testSplit)\n",
    "\n",
    "if wavelet:\n",
    "    results_file = 'wavelet_' + archType + '_' + expDim + '_' + testSplit + '.txt'\n",
    "else:\n",
    "    results_file = archType + '_' + expDim + '_' + testSplit + '.txt'\n",
    "\n",
    "if not os.path.exists(folder_):\n",
    "    os.makedirs(folder_)\n",
    "    \n",
    "print(folder_)\n",
    "\n",
    "if not os.path.exists(results_folder):\n",
    "    os.makedirs(results_folder)\n",
    "    \n",
    "print(results_folder)\n",
    "print(results_file)"
   ]
  },
  {
   "cell_type": "code",
   "execution_count": 4,
   "metadata": {},
   "outputs": [],
   "source": [
    "def get_data(dir):\n",
    "    df_train = pd.DataFrame()\n",
    "    df_val = pd.DataFrame()\n",
    "    df_test = pd.DataFrame()\n",
    "    for file in os.listdir(dir):\n",
    "        print(file)\n",
    "        df = pd.read_excel(dir + '/' + file, usecols=[1,2,3,4,5,6,7,8])\n",
    "        \n",
    "        print('total:', len(df), '60%: ', int(len(df)*.6), '20%: ',int(len(df)*.2))\n",
    "        \n",
    "        train = int(len(df)*.6)\n",
    "        val = int(train + len(df)*.2)\n",
    "        test = int(val + len(df)*.2)\n",
    "        df_train = df_train.append(df.iloc[:train])\n",
    "        df_val = df_val.append(df.iloc[train:val])\n",
    "        df_test = df_test.append(df.iloc[val:test])\n",
    "\n",
    "    return df_train, df_val, df_test"
   ]
  },
  {
   "cell_type": "code",
   "execution_count": 5,
   "metadata": {},
   "outputs": [
    {
     "name": "stdout",
     "output_type": "stream",
     "text": [
      "Feeding_5_25Hz.xlsx\n",
      "total: 875 60%:  525 20%:  175\n",
      "Feeding_7_25Hz.xlsx\n",
      "total: 2100 60%:  1260 20%:  420\n",
      "Feeding_4_25Hz.xlsx\n",
      "total: 1375 60%:  825 20%:  275\n",
      "Feeding_1_25Hz_new.xlsx\n",
      "total: 5700 60%:  3420 20%:  1140\n",
      "Feeding_3_25Hz.xlsx\n",
      "total: 200 60%:  120 20%:  40\n",
      "Feeding_2_25Hz.xlsx\n",
      "total: 350 60%:  210 20%:  70\n",
      "Feeding_6_25Hz.xlsx\n",
      "total: 2900 60%:  1740 20%:  580\n",
      "Resting6_25Hz.xlsx\n",
      "total: 27975 60%:  16785 20%:  5595\n",
      "Resting4_25Hz.xlsx\n",
      "total: 10250 60%:  6150 20%:  2050\n",
      "Resting_7_25Hz.xlsx\n",
      "total: 77374 60%:  46424 20%:  15474\n",
      "Resting2_25Hz.xlsx\n",
      "total: 565580 60%:  339348 20%:  113116\n",
      "Resting1_25Hz_new.xlsx\n",
      "total: 157750 60%:  94650 20%:  31550\n",
      "Resting5_25Hz.xlsx\n",
      "total: 6150 60%:  3690 20%:  1230\n",
      "Resting3_25Hz.xlsx\n",
      "total: 379850 60%:  227910 20%:  75970\n",
      "Swimming5_25Hz.xlsx\n",
      "total: 7975 60%:  4785 20%:  1595\n",
      "Swimming4_25Hz.xlsx\n",
      "total: 81525 60%:  48915 20%:  16305\n",
      "Swimming3_25Hz.xlsx\n",
      "total: 5100 60%:  3060 20%:  1020\n",
      "Swimming1_25Hz_new.xlsx\n",
      "total: 6200 60%:  3720 20%:  1240\n",
      "Swimming_7_25Hz.xlsx\n",
      "total: 61475 60%:  36885 20%:  12295\n",
      "Swimming2_25Hz.xlsx\n",
      "total: 209550 60%:  125730 20%:  41910\n",
      "Swimming6_25Hz.xlsx\n",
      "total: 19750 60%:  11850 20%:  3950\n",
      "NDM5_25Hz.xlsx\n",
      "total: 1775 60%:  1065 20%:  355\n",
      "NDM4_25Hz.xlsx\n",
      "total: 1750 60%:  1050 20%:  350\n",
      "NDM3_25Hz.xlsx\n",
      "total: 15700 60%:  9420 20%:  3140\n",
      "NDM2_25Hz.xlsx\n",
      "total: 7400 60%:  4440 20%:  1480\n",
      "NDM_7_25Hz.xlsx\n",
      "total: 5400 60%:  3240 20%:  1080\n",
      "NDM1_25Hz_new.xlsx\n",
      "total: 51950 60%:  31170 20%:  10390\n",
      "NDM6_25Hz.xlsx\n",
      "total: 27025 60%:  16215 20%:  5405\n"
     ]
    }
   ],
   "source": [
    "all_data = './datasets/all_data'\n",
    "\n",
    "train_f, val_f, test_f = get_data(all_data + '/feeding')\n",
    "train_r, val_r, test_r = get_data(all_data + '/resting')\n",
    "train_s, val_s, test_s = get_data(all_data + '/swimming')\n",
    "train_n, val_n, test_n = get_data(all_data + '/ndm')"
   ]
  },
  {
   "cell_type": "code",
   "execution_count": null,
   "metadata": {},
   "outputs": [],
   "source": []
  }
 ],
 "metadata": {
  "kernelspec": {
   "display_name": "Python 3",
   "language": "python",
   "name": "python3"
  },
  "language_info": {
   "codemirror_mode": {
    "name": "ipython",
    "version": 3
   },
   "file_extension": ".py",
   "mimetype": "text/x-python",
   "name": "python",
   "nbconvert_exporter": "python",
   "pygments_lexer": "ipython3",
   "version": "3.6.9"
  }
 },
 "nbformat": 4,
 "nbformat_minor": 4
}
